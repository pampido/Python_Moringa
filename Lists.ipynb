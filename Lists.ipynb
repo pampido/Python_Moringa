{
 "cells": [
  {
   "cell_type": "code",
   "execution_count": 2,
   "id": "a398905a",
   "metadata": {},
   "outputs": [
    {
     "name": "stdout",
     "output_type": "stream",
     "text": [
      "['Supreme', 'High Court']\n"
     ]
    }
   ],
   "source": [
    "#modifying elements in a list\n",
    "courts = [\"Supreme\", \"High Court\"]\n",
    "\n",
    "courts[1] = \"High Court\"\n",
    "print(courts)"
   ]
  },
  {
   "cell_type": "code",
   "execution_count": 3,
   "id": "be752cb1",
   "metadata": {},
   "outputs": [
    {
     "name": "stdout",
     "output_type": "stream",
     "text": [
      "['Supreme', 'High Court', 'Magistrate Court']\n"
     ]
    }
   ],
   "source": [
    "#adding new items to the list\n",
    "courts.append(\"Magistrate Court\")\n",
    "print(courts)"
   ]
  },
  {
   "cell_type": "code",
   "execution_count": 9,
   "id": "4b6620b3",
   "metadata": {},
   "outputs": [],
   "source": [
    "#example 2\n",
    "fruits.append(\"Paw Paw\")\n",
    "print(fruits)\n"
   ]
  },
  {
   "cell_type": "code",
   "execution_count": null,
   "id": "7c9b48ee",
   "metadata": {},
   "outputs": [],
   "source": [
    "#insert an item into a list\n",
    "courts.insert(1, \"Court of Appeal\")\n",
    "print(courts)"
   ]
  },
  {
   "cell_type": "code",
   "execution_count": 1,
   "id": "ec7babba",
   "metadata": {},
   "outputs": [
    {
     "ename": "NameError",
     "evalue": "name 'fruits' is not defined",
     "output_type": "error",
     "traceback": [
      "\u001b[1;31m---------------------------------------------------------------------------\u001b[0m",
      "\u001b[1;31mNameError\u001b[0m                                 Traceback (most recent call last)",
      "Cell \u001b[1;32mIn[1], line 3\u001b[0m\n\u001b[0;32m      1\u001b[0m \u001b[38;5;66;03m#remove item from a list\u001b[39;00m\n\u001b[0;32m      2\u001b[0m \u001b[38;5;66;03m#1. Using .pop() to remove an item at the end of a list\u001b[39;00m\n\u001b[1;32m----> 3\u001b[0m fruits\u001b[38;5;241m.\u001b[39mpop()\n\u001b[0;32m      4\u001b[0m \u001b[38;5;28mprint\u001b[39m(fruits)\n\u001b[0;32m      5\u001b[0m \u001b[38;5;66;03m#2. Using .pop(index) to remove an item at a particular position\u001b[39;00m\n",
      "\u001b[1;31mNameError\u001b[0m: name 'fruits' is not defined"
     ]
    }
   ],
   "source": [
    "#remove item from a list\n",
    "#1. Using .pop() to remove an item at the end of a list\n",
    "fruits.pop()\n",
    "print(fruits)\n",
    "#2. Using .pop(index) to remove an item at a particular position\n",
    "fruits.pop(0)\n",
    "print(fruits)\n",
    "\n",
    "#3. Use .remove(item_value) to remove item by value\n",
    "fruits.remove(\"Orange\")\n",
    "\n",
    "\n",
    "#4. Using del statement to remove item(s) in a list\n",
    "#syntax del list_name[index]\n",
    "\n",
    "del fruits[1]\n",
    "print(fruits)"
   ]
  },
  {
   "cell_type": "code",
   "execution_count": 9,
   "id": "b51b77bc",
   "metadata": {},
   "outputs": [
    {
     "data": {
      "text/plain": [
       "'ORANGES'"
      ]
     },
     "execution_count": 9,
     "metadata": {},
     "output_type": "execute_result"
    }
   ],
   "source": [
    "fruits =[\"Mango\", [\"Paw Paw\", \"Oranges\"], \"Guava\"]\n",
    "\n",
    "fruits[1][1].upper()\n"
   ]
  },
  {
   "cell_type": "code",
   "execution_count": 10,
   "id": "a7f08da0",
   "metadata": {},
   "outputs": [
    {
     "name": "stdout",
     "output_type": "stream",
     "text": [
      "Present\n"
     ]
    }
   ],
   "source": [
    "#checking items in a list\n",
    "noise_makers = [\"Antonny\", \"Kocheli\", \"Kirui\", \"Chemu\", \"Nyambane\"]\n",
    "if \"Antonny\" in noise_makers:\n",
    "    print(\"Present\")"
   ]
  },
  {
   "cell_type": "code",
   "execution_count": 14,
   "id": "e51db1c2",
   "metadata": {},
   "outputs": [
    {
     "name": "stdout",
     "output_type": "stream",
     "text": [
      "['Antonny', 'Kocheli', 'Kirui', 'Chemu', 'Nyambane', 'Linda']\n"
     ]
    }
   ],
   "source": [
    "#adding items not in list\n",
    "if \"Linda\" in noise_makers:\n",
    "    print(\"Present\")\n",
    "else:\n",
    "    noise_makers.append(\"Linda\")\n",
    "    print(noise_makers)"
   ]
  },
  {
   "cell_type": "code",
   "execution_count": 16,
   "id": "c5f662c1",
   "metadata": {},
   "outputs": [
    {
     "name": "stdout",
     "output_type": "stream",
     "text": [
      "List is corrupted and incomplete\n"
     ]
    }
   ],
   "source": [
    "#Checking if item NOT in a list\n",
    "if \"Yussuf\" not in noise_makers:\n",
    "    print(\"List is corrupted and incomplete\")\n",
    "    \n",
    "    "
   ]
  },
  {
   "cell_type": "code",
   "execution_count": 17,
   "id": "062fff71",
   "metadata": {},
   "outputs": [
    {
     "name": "stdout",
     "output_type": "stream",
     "text": [
      "['Yussuf', 'Antonny', 'Kocheli', 'Kirui', 'Chemu', 'Nyambane', 'Linda']\n"
     ]
    }
   ],
   "source": [
    "#Adding item NOT in list as first item\n",
    "if \"Yussuf\" not in noise_makers:\n",
    "    noise_makers.insert(0, \"Yussuf\")\n",
    "    print(noise_makers)"
   ]
  },
  {
   "cell_type": "markdown",
   "id": "0a78cd38",
   "metadata": {},
   "source": [
    "# Functions "
   ]
  },
  {
   "cell_type": "code",
   "execution_count": 18,
   "id": "29041786",
   "metadata": {},
   "outputs": [
    {
     "data": {
      "text/plain": [
       "7"
      ]
     },
     "execution_count": 18,
     "metadata": {},
     "output_type": "execute_result"
    }
   ],
   "source": [
    "#size of a list\n",
    "len(noise_makers)"
   ]
  },
  {
   "cell_type": "code",
   "execution_count": 24,
   "id": "7916d8aa",
   "metadata": {},
   "outputs": [
    {
     "name": "stdout",
     "output_type": "stream",
     "text": [
      "None\n"
     ]
    }
   ],
   "source": [
    "numbers = [9,8,2,3,5,6,7,1,0,4]\n",
    "print(numbers)"
   ]
  }
 ],
 "metadata": {
  "kernelspec": {
   "display_name": "Python 3 (ipykernel)",
   "language": "python",
   "name": "python3"
  },
  "language_info": {
   "codemirror_mode": {
    "name": "ipython",
    "version": 3
   },
   "file_extension": ".py",
   "mimetype": "text/x-python",
   "name": "python",
   "nbconvert_exporter": "python",
   "pygments_lexer": "ipython3",
   "version": "3.11.3"
  }
 },
 "nbformat": 4,
 "nbformat_minor": 5
}
