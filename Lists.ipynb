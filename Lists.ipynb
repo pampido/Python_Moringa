{
 "cells": [
  {
   "cell_type": "markdown",
   "id": "0df994c3",
   "metadata": {},
   "source": [
    "## List\n",
    "* A collection of items in a particular order.\n",
    "* Can include strings, floats, intergers and any other datatypes or another list.\n",
    "* You can add anything in a list, and the items in the list don't have to be related.\n",
    "* Use Square Brackets (```[]```) to indicate a list and individual items in the list are separated by commas. \n",
    "* **Syntax** : ```[item_1, item_2, item_3, ....., item_n]```\n",
    "\n"
   ]
  },
  {
   "cell_type": "code",
   "execution_count": 28,
   "id": "0f13ed97",
   "metadata": {},
   "outputs": [
    {
     "name": "stdout",
     "output_type": "stream",
     "text": [
      "['Mango', 'Banana', 'Orange', 'Apple']\n"
     ]
    }
   ],
   "source": [
    "#Example\n",
    "fruits = [\"Mango\", \"Banana\", \"Orange\", \"Apple\"]\n",
    "print(fruits)"
   ]
  },
  {
   "cell_type": "code",
   "execution_count": 3,
   "id": "e778c884",
   "metadata": {},
   "outputs": [
    {
     "data": {
      "text/plain": [
       "list"
      ]
     },
     "execution_count": 3,
     "metadata": {},
     "output_type": "execute_result"
    }
   ],
   "source": [
    "#Type of datatype\n",
    "type(fruits)"
   ]
  },
  {
   "cell_type": "code",
   "execution_count": 4,
   "id": "3754a082",
   "metadata": {},
   "outputs": [
    {
     "name": "stdout",
     "output_type": "stream",
     "text": [
      "[254722123456, 254722000000, 254722999999]\n"
     ]
    }
   ],
   "source": [
    "#Example 2\n",
    "\n",
    "phone_no = [254722123456, 254722000000, 254722999999]\n",
    "print(phone_no)"
   ]
  },
  {
   "cell_type": "markdown",
   "id": "8afb9e59",
   "metadata": {},
   "source": [
    "### Accessing Items in a List\n",
    "\n",
    "* Lists are ordered collections, i.e you can access individual items in a list by telling py the position of that item in a list\n",
    "* The position of an item in a list is ref to as **index**\n",
    "* Syntax to access the item(s) in a list: \n",
    "* **```list_name[index of item]```**\n"
   ]
  },
  {
   "cell_type": "code",
   "execution_count": 27,
   "id": "9881b8be",
   "metadata": {},
   "outputs": [
    {
     "name": "stdout",
     "output_type": "stream",
     "text": [
      "['Banana', 'Oranges']\n"
     ]
    }
   ],
   "source": [
    "#Using fruit list\n",
    "print(fruits)"
   ]
  },
  {
   "cell_type": "code",
   "execution_count": 7,
   "id": "ece1aa22",
   "metadata": {},
   "outputs": [
    {
     "name": "stdout",
     "output_type": "stream",
     "text": [
      "Banana\n"
     ]
    }
   ],
   "source": [
    "#Access Banana\n",
    "print(fruits[1])"
   ]
  },
  {
   "cell_type": "markdown",
   "id": "5273596b",
   "metadata": {},
   "source": [
    "* **Index** positions start at **0**, not ~~1~~\n"
   ]
  },
  {
   "cell_type": "code",
   "execution_count": 12,
   "id": "f7a1250c",
   "metadata": {},
   "outputs": [
    {
     "name": "stdout",
     "output_type": "stream",
     "text": [
      "ORANGES\n"
     ]
    }
   ],
   "source": [
    "#Change Case\n",
    "\n",
    "fruits[2].upper()\n",
    "print(fruits[2].upper())"
   ]
  },
  {
   "cell_type": "code",
   "execution_count": 16,
   "id": "0820e0ad",
   "metadata": {},
   "outputs": [
    {
     "name": "stdout",
     "output_type": "stream",
     "text": [
      "Apple\n",
      "Oranges\n"
     ]
    }
   ],
   "source": [
    "# Using negative indexing\n",
    "# Starts at -1\n",
    "\n",
    "print(fruits[-1])\n",
    "print(fruits[-2])"
   ]
  },
  {
   "cell_type": "code",
   "execution_count": 34,
   "id": "d67f0df7",
   "metadata": {},
   "outputs": [
    {
     "name": "stdout",
     "output_type": "stream",
     "text": [
      "Martin likes Apple, especially the red ones\n",
      "Martin likes both Bananas and Apples\n"
     ]
    }
   ],
   "source": [
    "#Using indiv items in a list\n",
    "message = f\"Martin likes {fruits[-1]}, especially the red ones\"\n",
    "message_2 = f\"Martin likes both {fruits[1]}s and {fruits[-1]}s\"\n",
    "\n",
    "print(message)\n",
    "print(message_2)"
   ]
  },
  {
   "cell_type": "markdown",
   "id": "2b78623d",
   "metadata": {},
   "source": [
    "### Modifying, Adding and Removing Elements in a list\n",
    "* Lists are dynamic, i.e.u can add, modify or remove items from the list or delete entire list"
   ]
  },
  {
   "cell_type": "code",
   "execution_count": 42,
   "id": "a398905a",
   "metadata": {},
   "outputs": [
    {
     "name": "stdout",
     "output_type": "stream",
     "text": [
      "['Supreme Court', 'High Coat']\n"
     ]
    }
   ],
   "source": [
    "# Example List\n",
    "\n",
    "courts = [\"Supreme Court\", \"High Coat\"] # Coat intentionally misspelt\n",
    "\n",
    "\n",
    "print(courts)"
   ]
  },
  {
   "cell_type": "code",
   "execution_count": 43,
   "id": "4e3d647b",
   "metadata": {},
   "outputs": [
    {
     "name": "stdout",
     "output_type": "stream",
     "text": [
      "['Supreme Court', 'High Court']\n"
     ]
    }
   ],
   "source": [
    "# Modifying elements in a list\n",
    "\n",
    "courts[1] = \"High Court\" # To rectify the earlier deliberate typo\n",
    "print(courts)\n"
   ]
  },
  {
   "cell_type": "code",
   "execution_count": 44,
   "id": "be752cb1",
   "metadata": {},
   "outputs": [
    {
     "name": "stdout",
     "output_type": "stream",
     "text": [
      "['Supreme Court', 'High Court', 'Magistrate Court']\n"
     ]
    }
   ],
   "source": [
    "#adding new items to the list - introducing new items to the list\n",
    "\n",
    "#1. Adding elements at the end of a list use .append(item)\n",
    "courts.append(\"Magistrate Court\")\n",
    "print(courts)"
   ]
  },
  {
   "cell_type": "code",
   "execution_count": 45,
   "id": "4b6620b3",
   "metadata": {},
   "outputs": [
    {
     "name": "stdout",
     "output_type": "stream",
     "text": [
      "['Mango', 'Banana', 'Orange', 'Apple', 'Paw Paw', 'Paw Paw']\n"
     ]
    }
   ],
   "source": [
    "#example 2 of .append\n",
    "fruits.append(\"Paw Paw\")\n",
    "print(fruits)\n"
   ]
  },
  {
   "cell_type": "code",
   "execution_count": 46,
   "id": "7c9b48ee",
   "metadata": {},
   "outputs": [
    {
     "name": "stdout",
     "output_type": "stream",
     "text": [
      "['Supreme Court', 'Court of Appeal', 'High Court', 'Magistrate Court']\n"
     ]
    }
   ],
   "source": [
    "#2. Insert an item into a list at a specific position\n",
    "# Syntax  .insert(index, item)\n",
    "\n",
    "courts.insert(1, \"Court of Appeal\")\n",
    "print(courts)"
   ]
  },
  {
   "cell_type": "code",
   "execution_count": 59,
   "id": "8c2c9a70",
   "metadata": {},
   "outputs": [
    {
     "name": "stdout",
     "output_type": "stream",
     "text": [
      "0: courts\n"
     ]
    }
   ],
   "source": [
    "# Display items in a list with their respective indexes\n",
    "# Syntax enumerate()\n",
    "\n",
    "for i, court in enumerate(courts):\n",
    "    print(f\"{i}: courts\")"
   ]
  },
  {
   "cell_type": "code",
   "execution_count": 60,
   "id": "ec7babba",
   "metadata": {},
   "outputs": [
    {
     "name": "stdout",
     "output_type": "stream",
     "text": [
      "['Mango', 'Banana', 'Orange', 'Apple', 'Paw Paw', 'Paw Paw']\n",
      "['Mango', 'Banana', 'Orange', 'Apple', 'Paw Paw']\n",
      "['Banana', 'Orange', 'Apple', 'Paw Paw']\n",
      "['Banana', 'Paw Paw']\n"
     ]
    }
   ],
   "source": [
    "# remove item from a list\n",
    "# 1. Using .pop() to remove an item at the end of a list\n",
    "\n",
    "print(fruits)\n",
    "fruits.pop()\n",
    "print(fruits)\n",
    "\n",
    "#2. Using .pop(index) to remove an item at a particular position\n",
    "fruits.pop(0)\n",
    "print(fruits)\n",
    "\n",
    "#3. Use .remove(item_value) to remove item by value\n",
    "fruits.remove(\"Orange\")\n",
    "\n",
    "\n",
    "#4. Using del statement to remove item(s) in a list\n",
    "#syntax del list_name[index]\n",
    "\n",
    "del fruits[1]\n",
    "print(fruits)"
   ]
  },
  {
   "cell_type": "code",
   "execution_count": 61,
   "id": "b51b77bc",
   "metadata": {},
   "outputs": [
    {
     "data": {
      "text/plain": [
       "'ORANGES'"
      ]
     },
     "execution_count": 61,
     "metadata": {},
     "output_type": "execute_result"
    }
   ],
   "source": [
    "fruits =[\"Mango\", [\"Paw Paw\", \"Oranges\"], \"Guava\"]\n",
    "\n",
    "fruits[1][1].upper()\n"
   ]
  },
  {
   "cell_type": "code",
   "execution_count": 62,
   "id": "a7f08da0",
   "metadata": {},
   "outputs": [
    {
     "name": "stdout",
     "output_type": "stream",
     "text": [
      "Present\n"
     ]
    }
   ],
   "source": [
    "#checking items in a list\n",
    "noise_makers = [\"Antonny\", \"Kocheli\", \"Kirui\", \"Chemu\", \"Nyambane\"]\n",
    "if \"Antonny\" in noise_makers:\n",
    "    print(\"Present\")"
   ]
  },
  {
   "cell_type": "code",
   "execution_count": 14,
   "id": "e51db1c2",
   "metadata": {},
   "outputs": [
    {
     "name": "stdout",
     "output_type": "stream",
     "text": [
      "['Antonny', 'Kocheli', 'Kirui', 'Chemu', 'Nyambane', 'Linda']\n"
     ]
    }
   ],
   "source": [
    "#adding items not in list\n",
    "if \"Linda\" in noise_makers:\n",
    "    print(\"Present\")\n",
    "else:\n",
    "    noise_makers.append(\"Linda\")\n",
    "    print(noise_makers)"
   ]
  },
  {
   "cell_type": "code",
   "execution_count": 16,
   "id": "c5f662c1",
   "metadata": {},
   "outputs": [
    {
     "name": "stdout",
     "output_type": "stream",
     "text": [
      "List is corrupted and incomplete\n"
     ]
    }
   ],
   "source": [
    "#Checking if item NOT in a list\n",
    "if \"Yussuf\" not in noise_makers:\n",
    "    print(\"List is corrupted and incomplete\")\n",
    "    \n",
    "    "
   ]
  },
  {
   "cell_type": "code",
   "execution_count": 17,
   "id": "062fff71",
   "metadata": {},
   "outputs": [
    {
     "name": "stdout",
     "output_type": "stream",
     "text": [
      "['Yussuf', 'Antonny', 'Kocheli', 'Kirui', 'Chemu', 'Nyambane', 'Linda']\n"
     ]
    }
   ],
   "source": [
    "#Adding item NOT in list as first item\n",
    "if \"Yussuf\" not in noise_makers:\n",
    "    noise_makers.insert(0, \"Yussuf\")\n",
    "    print(noise_makers)"
   ]
  },
  {
   "cell_type": "markdown",
   "id": "0a78cd38",
   "metadata": {},
   "source": [
    "# Functions "
   ]
  },
  {
   "cell_type": "code",
   "execution_count": 18,
   "id": "29041786",
   "metadata": {},
   "outputs": [
    {
     "data": {
      "text/plain": [
       "7"
      ]
     },
     "execution_count": 18,
     "metadata": {},
     "output_type": "execute_result"
    }
   ],
   "source": [
    "#size of a list\n",
    "len(noise_makers)"
   ]
  },
  {
   "cell_type": "code",
   "execution_count": 24,
   "id": "7916d8aa",
   "metadata": {},
   "outputs": [
    {
     "name": "stdout",
     "output_type": "stream",
     "text": [
      "None\n"
     ]
    }
   ],
   "source": [
    "numbers = [9,8,2,3,5,6,7,1,0,4]\n",
    "print(numbers)"
   ]
  }
 ],
 "metadata": {
  "kernelspec": {
   "display_name": "Python 3 (ipykernel)",
   "language": "python",
   "name": "python3"
  },
  "language_info": {
   "codemirror_mode": {
    "name": "ipython",
    "version": 3
   },
   "file_extension": ".py",
   "mimetype": "text/x-python",
   "name": "python",
   "nbconvert_exporter": "python",
   "pygments_lexer": "ipython3",
   "version": "3.11.3"
  }
 },
 "nbformat": 4,
 "nbformat_minor": 5
}
