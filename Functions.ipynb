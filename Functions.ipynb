{
 "cells": [
  {
   "cell_type": "markdown",
   "metadata": {},
   "source": [
    "# Functions\n",
    "\n"
   ]
  },
  {
   "cell_type": "markdown",
   "metadata": {},
   "source": [
    "* A named block of code that are designed to do one specific job.\n",
    "* When you want to perform a particular task that you have defined in a function, you *call* the function responsible for it.\n",
    "* If you need to perform that task multiple times across your program, you dont need type the code all over again and again; you just call the function dedicated to handling that task.\n",
    "* Using functions makes your program easier to write, read, test and fix."
   ]
  },
  {
   "cell_type": "code",
   "execution_count": 1,
   "metadata": {},
   "outputs": [
    {
     "name": "stdout",
     "output_type": "stream",
     "text": [
      "The Zen of Python, by Tim Peters\n",
      "\n",
      "Beautiful is better than ugly.\n",
      "Explicit is better than implicit.\n",
      "Simple is better than complex.\n",
      "Complex is better than complicated.\n",
      "Flat is better than nested.\n",
      "Sparse is better than dense.\n",
      "Readability counts.\n",
      "Special cases aren't special enough to break the rules.\n",
      "Although practicality beats purity.\n",
      "Errors should never pass silently.\n",
      "Unless explicitly silenced.\n",
      "In the face of ambiguity, refuse the temptation to guess.\n",
      "There should be one-- and preferably only one --obvious way to do it.\n",
      "Although that way may not be obvious at first unless you're Dutch.\n",
      "Now is better than never.\n",
      "Although never is often better than *right* now.\n",
      "If the implementation is hard to explain, it's a bad idea.\n",
      "If the implementation is easy to explain, it may be a good idea.\n",
      "Namespaces are one honking great idea -- let's do more of those!\n"
     ]
    }
   ],
   "source": [
    "# zen of python\n",
    "import this"
   ]
  },
  {
   "cell_type": "markdown",
   "metadata": {},
   "source": [
    "## Types of Functions \n",
    "\n",
    "1. `User-defined functions` - Functions that we create/define ourselves in our program and then call them wherever we want.\n",
    "2. `Built-in Functions` - Functions already defined in Python Libraries and we call them directly."
   ]
  },
  {
   "cell_type": "markdown",
   "metadata": {},
   "source": [
    "## Defining a Function"
   ]
  },
  {
   "cell_type": "code",
   "execution_count": 11,
   "metadata": {},
   "outputs": [
    {
     "name": "stdout",
     "output_type": "stream",
     "text": [
      "Hello!\n"
     ]
    }
   ],
   "source": [
    "# example \n",
    "def greet_user():\n",
    "    \"\"\"Display a simple greeting\"\"\"\n",
    "    print(\"Hello!\")\n",
    "\n",
    "greet_user()"
   ]
  },
  {
   "cell_type": "markdown",
   "metadata": {},
   "source": [
    "`def greet_user():` \n",
    "* Using the keyword `def` to inform python that you are defining a function, refered to as *function definition*. \n",
    "* Function definition tells python the name of the function, in the example above, **greet_user**.\n",
    "* It also informs python, if applicable, what kind of information the function needs to perform it's task/job, passed into to function using the `()`. In this case, the function need no information to perform its tasks hence the empty brackets.\n",
    "* Any indented lines that follow the `:` make up the body of the function.\n",
    "\n",
    "`\"\"\"Display a simple greeting\"\"\"`\n",
    "\n",
    "* Comment called *docstring*, that describes what the function does.\n",
    "* If a single short one line statement, we can use a `#`.\n",
    "\n",
    "`print(\"Hello World!\")`\n",
    "* Function body line(s) indented inside the function.\n",
    "* Contains set of instructions on the code to be executed.\n",
    "\n",
    "`greet_user()`\n",
    "* When you want to use a function, you call it. \n",
    "* A **function call** tells python to execute the indented code in the function body.\n",
    "* To call a function, write the function name, in our example, `greet_user`, followed by any necessary information in the `()`.\n"
   ]
  },
  {
   "cell_type": "code",
   "execution_count": 7,
   "metadata": {},
   "outputs": [
    {
     "name": "stdout",
     "output_type": "stream",
     "text": [
      "Antonny\n"
     ]
    }
   ],
   "source": [
    "# comment \n",
    "\n",
    "\"\"\"Comment\"\"\"\n",
    "\n",
    "# This is a multiple line comment\n",
    "# The tripple double quotes \n",
    "# Used to create multiple line comments\n",
    "\n",
    "\"\"\"\n",
    "This is a multiple line comment\n",
    "The tripple double quotes \n",
    "Used to create multiple line comments\n",
    "\"\"\"\n",
    "\n",
    "print(\"Antonny\")"
   ]
  },
  {
   "cell_type": "code",
   "execution_count": 9,
   "metadata": {},
   "outputs": [
    {
     "name": "stdout",
     "output_type": "stream",
     "text": [
      "7\n"
     ]
    }
   ],
   "source": [
    "# example 2\n",
    "\n",
    "def add_numbers(): # defining our function\n",
    "    \"\"\"Simple function to add numbers\"\"\"\n",
    "    a = 2\n",
    "    b = 5\n",
    "    sum = a + b\n",
    "    print(sum)\n",
    "\n",
    "add_numbers() # calling our function"
   ]
  },
  {
   "cell_type": "markdown",
   "metadata": {},
   "source": [
    "## Passing information to a function\n",
    "\n",
    "* The function greet_user can only tell the user *Hello!* but not greet them by name."
   ]
  },
  {
   "cell_type": "code",
   "execution_count": 12,
   "metadata": {},
   "outputs": [
    {
     "name": "stdout",
     "output_type": "stream",
     "text": [
      "Hello Antonny!\n"
     ]
    }
   ],
   "source": [
    "def greet_user(username):\n",
    "    \"\"\"Display a simple greeting\"\"\"\n",
    "    print(f\"Hello {username}!\")\n",
    "\n",
    "greet_user('Antonny')"
   ]
  },
  {
   "cell_type": "markdown",
   "metadata": {},
   "source": [
    "* By adding `username` in our function definition, we are allowing the function to accept any value for *username*.\n",
    "* Expectations: - provide a value for a *username* each time call it. "
   ]
  },
  {
   "cell_type": "code",
   "execution_count": 13,
   "metadata": {},
   "outputs": [
    {
     "name": "stdout",
     "output_type": "stream",
     "text": [
      "Hello Melly!\n"
     ]
    }
   ],
   "source": [
    "# second function call \n",
    "greet_user('Melly') # changed username value"
   ]
  },
  {
   "cell_type": "markdown",
   "metadata": {},
   "source": [
    "* `parameters` - in the example greet_user(username), *username* is the parameter.\n",
    "A piece of information the function needs to do its job/task.\n",
    "* `arguments` - the value *Antonny* and *Melly* are arguments.\n",
    "A piece of information that's passed from a function call to a function."
   ]
  },
  {
   "cell_type": "code",
   "execution_count": 14,
   "metadata": {},
   "outputs": [
    {
     "ename": "TypeError",
     "evalue": "greet_user() missing 1 required positional argument: 'username'",
     "output_type": "error",
     "traceback": [
      "\u001b[0;31m---------------------------------------------------------------------------\u001b[0m",
      "\u001b[0;31mTypeError\u001b[0m                                 Traceback (most recent call last)",
      "Cell \u001b[0;32mIn[14], line 2\u001b[0m\n\u001b[1;32m      1\u001b[0m \u001b[39m# third function call \u001b[39;00m\n\u001b[0;32m----> 2\u001b[0m greet_user()\n",
      "\u001b[0;31mTypeError\u001b[0m: greet_user() missing 1 required positional argument: 'username'"
     ]
    }
   ],
   "source": [
    "# third function call \n",
    "greet_user()"
   ]
  },
  {
   "cell_type": "markdown",
   "metadata": {},
   "source": [
    "* We must pass in arguments during function calls to avoid errors."
   ]
  },
  {
   "cell_type": "code",
   "execution_count": 15,
   "metadata": {},
   "outputs": [
    {
     "name": "stdout",
     "output_type": "stream",
     "text": [
      "I have a Cat.\n",
      "My Cat's name is Missy.\n"
     ]
    }
   ],
   "source": [
    "def describe_pet(animal_type, pet_name):\n",
    "    \"\"\"Display information about a pet\"\"\"\n",
    "    print(f\"I have a {animal_type}.\")\n",
    "    print(f\"My {animal_type}'s name is {pet_name}.\")\n",
    "\n",
    "describe_pet('Cat', 'Missy')"
   ]
  },
  {
   "cell_type": "markdown",
   "metadata": {},
   "source": [
    "* When you call a function, Python must match each argument in the function call with a parameter in the function definition."
   ]
  },
  {
   "cell_type": "code",
   "execution_count": 16,
   "metadata": {},
   "outputs": [
    {
     "name": "stdout",
     "output_type": "stream",
     "text": [
      "I have a Scooby.\n",
      "My Scooby's name is Dog.\n"
     ]
    }
   ],
   "source": [
    "# the arguments match the order of the parameter \n",
    "describe_pet('Scooby', 'Dog') # this is wrong"
   ]
  },
  {
   "cell_type": "code",
   "execution_count": 17,
   "metadata": {},
   "outputs": [
    {
     "name": "stdout",
     "output_type": "stream",
     "text": [
      "I have a Dog.\n",
      "My Dog's name is Scooby.\n"
     ]
    }
   ],
   "source": [
    "# alternatively use keyword arguments\n",
    "describe_pet(pet_name='Scooby', animal_type='Dog') # assign arguments to parameters"
   ]
  },
  {
   "cell_type": "code",
   "execution_count": 18,
   "metadata": {},
   "outputs": [],
   "source": [
    "# default values \n",
    "def describe_pet(pet_name, animal_type = 'Dog'):\n",
    "    \"\"\"Display information about a pet\"\"\"\n",
    "    print(f\"I have a {animal_type}.\")\n",
    "    print(f\"My {animal_type}'s name is {pet_name}.\")"
   ]
  },
  {
   "cell_type": "markdown",
   "metadata": {},
   "source": [
    "* Defining a **default values** for the parameter `animal_type` and setting it as `Dog`. \n"
   ]
  },
  {
   "cell_type": "code",
   "execution_count": 19,
   "metadata": {},
   "outputs": [
    {
     "name": "stdout",
     "output_type": "stream",
     "text": [
      "I have a Dog.\n",
      "My Dog's name is Missy.\n"
     ]
    }
   ],
   "source": [
    "describe_pet('Missy')"
   ]
  },
  {
   "cell_type": "markdown",
   "metadata": {},
   "source": [
    "If an argument is not provided in the function call, python uses the default value ie `Dog` in the example above."
   ]
  },
  {
   "cell_type": "code",
   "execution_count": 21,
   "metadata": {},
   "outputs": [
    {
     "name": "stdout",
     "output_type": "stream",
     "text": [
      "I have a Cow.\n",
      "My Cow's name is Hope.\n"
     ]
    }
   ],
   "source": [
    "describe_pet('Hope', 'Cow')"
   ]
  },
  {
   "cell_type": "markdown",
   "metadata": {},
   "source": [
    "If an argument for a parameter is provided in the function call, python uses the argument value provided and not the default value. "
   ]
  },
  {
   "cell_type": "markdown",
   "metadata": {},
   "source": [
    "## Return Values\n",
    "\n",
    "* A function doesn't have to display its output directly."
   ]
  },
  {
   "cell_type": "code",
   "execution_count": 40,
   "metadata": {},
   "outputs": [],
   "source": [
    "# example \n",
    "def send_greeting(user):\n",
    "    \"\"\"Welcome users to a wedding\"\"\"\n",
    "    message = f\"Welcome {user} to Nyambane and Ida's Wedding!\"\n",
    "\n",
    "send_greeting('Yusuf')"
   ]
  },
  {
   "cell_type": "markdown",
   "metadata": {},
   "source": [
    "* Functions process data and then return a value or set of values, called **return values**."
   ]
  },
  {
   "cell_type": "code",
   "execution_count": 43,
   "metadata": {},
   "outputs": [
    {
     "data": {
      "text/plain": [
       "\"Welcome Eugene to Nyambane and Ida's Wedding!\""
      ]
     },
     "execution_count": 43,
     "metadata": {},
     "output_type": "execute_result"
    }
   ],
   "source": [
    "# modify the example \n",
    "def send_greeting(user):\n",
    "    \"\"\"Welcome users to a wedding\"\"\"\n",
    "    message = f\"Welcome {user} to Nyambane and Ida's Wedding!\"\n",
    "\n",
    "    return message\n",
    "\n",
    "send_greeting('Eugene')"
   ]
  },
  {
   "cell_type": "markdown",
   "metadata": {},
   "source": [
    "* The `return` statement takes a value or set of values from inside a function and send it back to the line that called the function."
   ]
  },
  {
   "cell_type": "code",
   "execution_count": 42,
   "metadata": {},
   "outputs": [
    {
     "name": "stdout",
     "output_type": "stream",
     "text": [
      "Welcome Kocheli to Nyambane and Ida's Wedding!\n"
     ]
    }
   ],
   "source": [
    "welcome_message = send_greeting('Kocheli')\n",
    "\n",
    "print(welcome_message)"
   ]
  },
  {
   "cell_type": "code",
   "execution_count": 1,
   "metadata": {
    "tags": []
   },
   "outputs": [
    {
     "data": {
      "text/plain": [
       "'4 / 7 = 0.5714285714285714'"
      ]
     },
     "execution_count": 1,
     "metadata": {},
     "output_type": "execute_result"
    }
   ],
   "source": [
    "# Example 2\n",
    "\n",
    "def calculator(a, b, operator):\n",
    "    \"\"\"Simple arithmetic operations\"\"\"\n",
    "    if (operator.strip() == \"+\"):\n",
    "        sum = a + b\n",
    "        sum_out = f\"{a} + {b} = {sum}\"\n",
    "        return sum_out\n",
    "    elif (operator.strip() == \"-\"):\n",
    "        diff = a - b\n",
    "        diff_out = f\"{a} - {b} = {diff}\"\n",
    "    \n",
    "        return diff_out\n",
    "    \n",
    "    elif (operator.strip() == \"*\"):\n",
    "        times = a * b\n",
    "        times_out = f\"{a} * {b} = {times}\"\n",
    "        return times_out\n",
    "    elif (operator.strip() == \"/\"):\n",
    "        div = a / b\n",
    "        div_out = f\"{a} / {b} = {div}\"\n",
    "        return div_out\n",
    "    else:\n",
    "       \n",
    "            print(\"Enter Numbers Only\")\n",
    "    \n",
    "    \n",
    "calculator(4, 7, \"/\")\n"
   ]
  },
  {
   "cell_type": "code",
   "execution_count": 2,
   "metadata": {
    "tags": []
   },
   "outputs": [
    {
     "data": {
      "text/plain": [
       "(10, 4, 21, 2.3333333333333335)"
      ]
     },
     "execution_count": 2,
     "metadata": {},
     "output_type": "execute_result"
    }
   ],
   "source": [
    "def alt_calculator(a, b):\n",
    "    \"\"\"Alternative Calculator\"\"\"\n",
    "    sum = a + b\n",
    "    diff = a - b\n",
    "    multiplication = a * b\n",
    "    division = a / b\n",
    "    \n",
    "    # return set of values\n",
    "    return sum, diff, multiplication, division\n",
    "alt_calculator(7, 3)"
   ]
  },
  {
   "cell_type": "code",
   "execution_count": 3,
   "metadata": {
    "tags": []
   },
   "outputs": [
    {
     "name": "stdout",
     "output_type": "stream",
     "text": [
      "<class 'tuple'>\n",
      "4\n",
      "21\n"
     ]
    }
   ],
   "source": [
    "# assign var  to our function call\n",
    "alt_calculator_output = alt_calculator(7, 3)\n",
    "print(type(alt_calculator_output))\n",
    "\n",
    "# accessing indiv val in the return  set of values\n",
    "difference = alt_calculator_output[1]\n",
    "prod = alt_calculator_output[-2]\n",
    "\n",
    "print(difference)\n",
    "print(prod)"
   ]
  },
  {
   "cell_type": "code",
   "execution_count": 4,
   "metadata": {
    "tags": []
   },
   "outputs": [
    {
     "data": {
      "text/plain": [
       "(14, [1, 4, 9])"
      ]
     },
     "execution_count": 4,
     "metadata": {},
     "output_type": "execute_result"
    }
   ],
   "source": [
    "# def Squares\n",
    "\n",
    "def sum_squares(numbers):\n",
    "    \"\"\"\n",
    "    parameters: \n",
    "        numbers - list of numbers \n",
    "    return:\n",
    "        sum of the squares of the list of numbers\n",
    "    \"\"\"\n",
    "    squared_numbers = []\n",
    "    for num in numbers:\n",
    "        square = num ** 2\n",
    "        squared_numbers.append(square)\n",
    "        squares_sum = sum(squared_numbers)\n",
    "    return squares_sum, squared_numbers\n",
    "\n",
    "sum_squares([1,2,3])"
   ]
  },
  {
   "cell_type": "markdown",
   "metadata": {},
   "source": [
    "# Built-in Functions\n",
    "## Input fn\n",
    "\n",
    "\n",
    "### Type Hinting\n",
    "* Allows us specify expected types of var, function parameters and return values\n",
    "* int function uses the built in function to convert a string that has numbers to an integer \n"
   ]
  },
  {
   "cell_type": "code",
   "execution_count": 5,
   "metadata": {
    "tags": []
   },
   "outputs": [
    {
     "name": "stdin",
     "output_type": "stream",
     "text": [
      "Enter your First Name: \n",
      " Martin\n"
     ]
    }
   ],
   "source": [
    "# Input  that takes in user input \n",
    "# Input only takes in strings\n",
    "\n",
    "first_name = input(\"Enter your First Name: \\n\")"
   ]
  },
  {
   "cell_type": "code",
   "execution_count": 29,
   "metadata": {
    "tags": []
   },
   "outputs": [
    {
     "name": "stdin",
     "output_type": "stream",
     "text": [
      "Enter a number:  90\n"
     ]
    },
    {
     "name": "stdout",
     "output_type": "stream",
     "text": [
      "The number is Even.\n"
     ]
    }
   ],
   "source": [
    "def even_or_odd():\n",
    "    num = int(input(\"Enter a number: \"))\n",
    "    if num % 2 == 0:\n",
    "        return \"Even\"\n",
    "    else:\n",
    "        return \"Odd\"\n",
    "result = even_or_odd()\n",
    "print(f\"The number is {result}.\")\n"
   ]
  },
  {
   "cell_type": "code",
   "execution_count": 8,
   "metadata": {
    "tags": []
   },
   "outputs": [
    {
     "name": "stdin",
     "output_type": "stream",
     "text": [
      "Enter a number:  89\n"
     ]
    },
    {
     "name": "stdout",
     "output_type": "stream",
     "text": [
      "89 is odd.\n"
     ]
    }
   ],
   "source": [
    "def check_even_odd():\n",
    "    try:\n",
    "        num = int(input(\"Enter a number: \"))\n",
    "        \n",
    "        if num % 2 == 0:\n",
    "            print(f\"{num} is even.\")\n",
    "        else:\n",
    "            print(f\"{num} is odd.\")\n",
    "    except ValueError:\n",
    "        print(\"Invalid input. Please enter a valid number.\")\n",
    "\n",
    "# Call the function\n",
    "check_even_odd()"
   ]
  },
  {
   "cell_type": "code",
   "execution_count": 32,
   "metadata": {
    "tags": []
   },
   "outputs": [
    {
     "name": "stdin",
     "output_type": "stream",
     "text": [
      "Enter a number:  90\n"
     ]
    },
    {
     "name": "stdout",
     "output_type": "stream",
     "text": [
      "The number 90 is Even.\n"
     ]
    }
   ],
   "source": [
    "def even_or_odd(num):\n",
    "    if num % 2 == 0:\n",
    "        return \"Even\"\n",
    "    else:\n",
    "        return \"Odd\"\n",
    "\n",
    "num = int(input(\"Enter a number: \"))\n",
    "result = even_or_odd(num)\n",
    "print(f\"The number {num} is {result}.\")\n"
   ]
  },
  {
   "cell_type": "code",
   "execution_count": 1,
   "metadata": {},
   "outputs": [
    {
     "name": "stdout",
     "output_type": "stream",
     "text": [
      "enter English score: \n",
      "90\n",
      "enter Kiswahili score: \n",
      "90\n",
      "enter Math score: \n",
      "90\n",
      "enter Science score: \n",
      "90\n",
      "enter Music score: \n",
      "90\n"
     ]
    },
    {
     "data": {
      "text/plain": [
       "['90', '90', '90', '90', '90']"
      ]
     },
     "execution_count": 1,
     "metadata": {},
     "output_type": "execute_result"
    }
   ],
   "source": [
    "# Reusable named block of codes\n",
    "\n",
    "def get_grade():\n",
    "    #count = 5\n",
    "    student_scores = []\n",
    "    subjects = [\"English\", \"Kiswahili\", \"Math\", \"Science\", \"Music\"]\n",
    "    #while (count < = 5):\n",
    "    for subject in subjects:\n",
    "        score = input(f\"enter {subject} score: \\n)\n",
    "        student_scores.append(score)\n",
    "        #count += 1\n",
    "    return student_scores\n",
    "get_grade()\n",
    "   "
   ]
  },
  {
   "cell_type": "code",
   "execution_count": 2,
   "metadata": {},
   "outputs": [
    {
     "name": "stdout",
     "output_type": "stream",
     "text": [
      "student name e.g Jane Doe: \n",
      "Tsinjekho Shimalabandu Mapnago\n"
     ]
    },
    {
     "data": {
      "text/plain": [
       "'Tsinjekho Shimalabandu Mapnago'"
      ]
     },
     "execution_count": 2,
     "metadata": {},
     "output_type": "execute_result"
    }
   ],
   "source": [
    "#get student name\n",
    "def student_names():\n",
    "    name = input(\"student name e.g Jane Doe: \\n\")\n",
    "    return name\n",
    "student_names()"
   ]
  },
  {
   "cell_type": "code",
   "execution_count": 17,
   "metadata": {},
   "outputs": [
    {
     "name": "stdout",
     "output_type": "stream",
     "text": [
      "enter English score: 90\n",
      "enter Kiswahili score: 98\n",
      "enter Maths score: 89\n",
      "enter Science score: 77\n",
      "enter Music score: 98\n"
     ]
    },
    {
     "data": {
      "text/plain": [
       "[90, 98, 89, 77, 98]"
      ]
     },
     "execution_count": 17,
     "metadata": {},
     "output_type": "execute_result"
    }
   ],
   "source": [
    "# getting individual scores\n",
    "def get_scores():\n",
    "    student_scores = []\n",
    "    subjects = [\"English\", \"Kiswahili\", \"Maths\", \"Science\", \"Music\"]\n",
    "    \n",
    "    for subject in subjects:\n",
    "        score = int(input(f\"enter {subject} score: \"))\n",
    "        student_scores.append(score)\n",
    "        \n",
    "    return student_scores\n",
    "\n",
    "get_scores()\n",
    "   "
   ]
  },
  {
   "cell_type": "code",
   "execution_count": 19,
   "metadata": {},
   "outputs": [
    {
     "name": "stdout",
     "output_type": "stream",
     "text": [
      "enter English score: \n",
      "98\n",
      "enter Kiswahili score: \n",
      "98\n",
      "enter Math score: \n",
      "87\n",
      "enter Science score: \n",
      "89\n",
      "enter Music score: \n",
      "90\n"
     ]
    },
    {
     "ename": "TypeError",
     "evalue": "unsupported operand type(s) for +: 'int' and 'str'",
     "output_type": "error",
     "traceback": [
      "\u001b[1;31m---------------------------------------------------------------------------\u001b[0m",
      "\u001b[1;31mTypeError\u001b[0m                                 Traceback (most recent call last)",
      "Cell \u001b[1;32mIn[19], line 12\u001b[0m\n\u001b[0;32m      9\u001b[0m     total \u001b[38;5;241m=\u001b[39m \u001b[38;5;28msum\u001b[39m(student_scores)\n\u001b[0;32m     11\u001b[0m     \u001b[38;5;28;01mreturn\u001b[39;00m total\n\u001b[1;32m---> 12\u001b[0m student_total()\n",
      "Cell \u001b[1;32mIn[19], line 9\u001b[0m, in \u001b[0;36mstudent_total\u001b[1;34m()\u001b[0m\n\u001b[0;32m      4\u001b[0m \u001b[38;5;250m\u001b[39m\u001b[38;5;124;03m\"\"\"get total scores\u001b[39;00m\n\u001b[0;32m      5\u001b[0m \u001b[38;5;124;03mReturns: \u001b[39;00m\n\u001b[0;32m      6\u001b[0m \u001b[38;5;124;03m    Total student scores out of 500\u001b[39;00m\n\u001b[0;32m      7\u001b[0m \u001b[38;5;124;03m\"\"\"\u001b[39;00m\n\u001b[0;32m      8\u001b[0m student_scores \u001b[38;5;241m=\u001b[39m get_grade()\n\u001b[1;32m----> 9\u001b[0m total \u001b[38;5;241m=\u001b[39m \u001b[38;5;28msum\u001b[39m(student_scores)\n\u001b[0;32m     11\u001b[0m \u001b[38;5;28;01mreturn\u001b[39;00m total\n",
      "\u001b[1;31mTypeError\u001b[0m: unsupported operand type(s) for +: 'int' and 'str'"
     ]
    }
   ],
   "source": [
    "#get student total\n",
    "\n",
    "def student_total():\n",
    "    \"\"\"get total scores\n",
    "    Returns: \n",
    "        Total student scores out of 500\n",
    "    \"\"\"\n",
    "    student_scores = get_grade()\n",
    "    total = sum(student_scores)\n",
    "    \n",
    "    return total\n",
    "student_total()"
   ]
  },
  {
   "cell_type": "markdown",
   "metadata": {},
   "source": []
  },
  {
   "cell_type": "code",
   "execution_count": 7,
   "metadata": {},
   "outputs": [
    {
     "name": "stdout",
     "output_type": "stream",
     "text": [
      "student name e.g Jane Doe: \n",
      "Joohn\n",
      "enter English score: \n",
      "90\n",
      "enter Kiswahili score: \n",
      "92\n",
      "enter Maths score: \n",
      "20\n",
      "enter Science score: \n",
      "12\n",
      "enter Music score: \n",
      "11\n"
     ]
    },
    {
     "data": {
      "text/plain": [
       "('Joohn', [90, 92, 20, 12, 11], ['A', 'A', 'D', 'D', 'D'], 225)"
      ]
     },
     "execution_count": 7,
     "metadata": {},
     "output_type": "execute_result"
    }
   ],
   "source": [
    "def student_performance():\n",
    "    \"\"\" get student name\n",
    "        get student scores\n",
    "        grade student\n",
    "        sum student scores\n",
    "            return: student name, scores, grade, total.\n",
    "    \"\"\"\n",
    "    student_name = student_names()\n",
    "    student_score = get_scores()\n",
    "    student_grade = []\n",
    "    # loop through the grade\n",
    "    for score in student_score:\n",
    "        if (score >= 80) and (score <= 100):\n",
    "            grade = \"A\"\n",
    "            student_grade.append(grade)\n",
    "        elif (score >=70) and (score<80):\n",
    "            grade = \"B\"\n",
    "            student_grade.append(grade)\n",
    "        elif (score >=60) and (score<70):\n",
    "            grade = \"C\"\n",
    "            student_grade.append(grade)\n",
    "        elif (score >=50) and (score<60):\n",
    "            grade = \"D\"\n",
    "            student_grade.append(grade)\n",
    "        elif (score <50) and (score>=0):\n",
    "            grade = \"D\"\n",
    "            student_grade.append(grade)\n",
    "        else:\n",
    "            print(\"invalid grade\")\n",
    "            student_grade.append(none)\n",
    "            \n",
    "    total = sum(student_score)\n",
    "    \n",
    "    return(student_name, student_score, student_grade, total)\n",
    "\n",
    "student_performance()\n",
    "     \n",
    "  \n",
    " "
   ]
  },
  {
   "cell_type": "code",
   "execution_count": 8,
   "metadata": {},
   "outputs": [
    {
     "name": "stdout",
     "output_type": "stream",
     "text": [
      "student name e.g Jane Doe: \n",
      "Shibulishikanda Mwenesi\n",
      "enter English score: \n",
      "83\n",
      "enter Kiswahili score: \n",
      "82\n",
      "enter Maths score: \n",
      "91\n",
      "enter Science score: \n",
      "57\n",
      "enter Music score: \n",
      "89\n",
      "student name e.g Jane Doe: \n",
      "Pampido Mapango\n",
      "enter English score: \n",
      "89\n",
      "enter Kiswahili score: \n",
      "89\n",
      "enter Maths score: \n",
      "91\n",
      "enter Science score: \n",
      "78\n",
      "enter Music score: \n",
      "77\n",
      "student name e.g Jane Doe: \n",
      "Tsinjekho Shimalabandu\n",
      "enter English score: \n",
      "99\n",
      "enter Kiswahili score: \n",
      "97\n",
      "enter Maths score: \n",
      "99\n",
      "enter Science score: \n",
      "91\n",
      "enter Music score: \n",
      "99\n",
      "student name e.g Jane Doe: \n",
      "Machina Makhacha\n",
      "enter English score: \n",
      "71\n",
      "enter Kiswahili score: \n",
      "65\n",
      "enter Maths score: \n",
      "71\n",
      "enter Science score: \n",
      "63\n",
      "enter Music score: \n",
      "78\n"
     ]
    }
   ],
   "source": [
    "# Adding more Students Perfomance\n",
    "\n",
    "student_number = 0\n",
    "Class_performance ={\n",
    "    \"Name\": [],\n",
    "    \"English\": [],\n",
    "    \"English_grade\": [],\n",
    "    \"Kiswahili\": [],\n",
    "    \"Kiswahili_grade\": [],\n",
    "    \"Maths\": [],\n",
    "    \"Maths_grade\": [],\n",
    "    \"Science\": [],\n",
    "    \"Science_grade\": [],\n",
    "    \"Music\": [],\n",
    "    \"Music_grade\": [],\n",
    "    \"total\": []\n",
    "}\n",
    "\n",
    "while student_number <= 3:\n",
    "    indiv_student = student_performance()\n",
    "    indiv_student = list(indiv_student)\n",
    "    Class_performance[\"Name\"].append(indiv_student[0]) # First name in the indiv perf list\n",
    "    Class_performance[\"English\"].append(indiv_student[1][0]) # First subject\n",
    "    Class_performance[\"English_grade\"].append(indiv_student[2][0])\n",
    "    Class_performance[\"Kiswahili\"].append(indiv_student[1][1])\n",
    "    Class_performance[\"Kiswahili_grade\"].append(indiv_student[2][1])\n",
    "    Class_performance[\"Maths\"].append(indiv_student[1][2])\n",
    "    Class_performance[\"Maths_grade\"].append(indiv_student[2][2])\n",
    "    Class_performance[\"Science\"].append(indiv_student[1][3])\n",
    "    Class_performance[\"Science_grade\"].append(indiv_student[2][3])\n",
    "    Class_performance[\"Music\"].append(indiv_student[1][4])\n",
    "    Class_performance[\"Music_grade\"].append(indiv_student[2][4])\n",
    "    Class_performance[\"total\"].append(indiv_student[3])                                       \n",
    "    student_number += 1\n",
    "    #print(Class_performance)"
   ]
  },
  {
   "cell_type": "code",
   "execution_count": 9,
   "metadata": {},
   "outputs": [
    {
     "name": "stdout",
     "output_type": "stream",
     "text": [
      "{'Name': ['Shibulishikanda Mwenesi', 'Pampido Mapango', 'Tsinjekho Shimalabandu', 'Machina Makhacha'], 'English': [83, 89, 99, 71], 'English_grade': ['A', 'A', 'A', 'B'], 'Kiswahili': [82, 89, 97, 65], 'Kiswahili_grade': ['A', 'A', 'A', 'C'], 'Maths': [91, 91, 99, 71], 'Maths_grade': ['A', 'A', 'A', 'B'], 'Science': [57, 78, 91, 63], 'Science_grade': ['D', 'B', 'A', 'C'], 'Music': [89, 77, 99, 78], 'Music_grade': ['A', 'B', 'A', 'B'], 'total': [402, 424, 485, 348]}\n"
     ]
    }
   ],
   "source": [
    "print(Class_performance)"
   ]
  },
  {
   "cell_type": "code",
   "execution_count": 10,
   "metadata": {},
   "outputs": [
    {
     "data": {
      "text/html": [
       "<div>\n",
       "<style scoped>\n",
       "    .dataframe tbody tr th:only-of-type {\n",
       "        vertical-align: middle;\n",
       "    }\n",
       "\n",
       "    .dataframe tbody tr th {\n",
       "        vertical-align: top;\n",
       "    }\n",
       "\n",
       "    .dataframe thead th {\n",
       "        text-align: right;\n",
       "    }\n",
       "</style>\n",
       "<table border=\"1\" class=\"dataframe\">\n",
       "  <thead>\n",
       "    <tr style=\"text-align: right;\">\n",
       "      <th></th>\n",
       "      <th>Name</th>\n",
       "      <th>English</th>\n",
       "      <th>English_grade</th>\n",
       "      <th>Kiswahili</th>\n",
       "      <th>Kiswahili_grade</th>\n",
       "      <th>Maths</th>\n",
       "      <th>Maths_grade</th>\n",
       "      <th>Science</th>\n",
       "      <th>Science_grade</th>\n",
       "      <th>Music</th>\n",
       "      <th>Music_grade</th>\n",
       "      <th>total</th>\n",
       "    </tr>\n",
       "  </thead>\n",
       "  <tbody>\n",
       "    <tr>\n",
       "      <th>0</th>\n",
       "      <td>Shibulishikanda Mwenesi</td>\n",
       "      <td>83</td>\n",
       "      <td>A</td>\n",
       "      <td>82</td>\n",
       "      <td>A</td>\n",
       "      <td>91</td>\n",
       "      <td>A</td>\n",
       "      <td>57</td>\n",
       "      <td>D</td>\n",
       "      <td>89</td>\n",
       "      <td>A</td>\n",
       "      <td>402</td>\n",
       "    </tr>\n",
       "    <tr>\n",
       "      <th>1</th>\n",
       "      <td>Pampido Mapango</td>\n",
       "      <td>89</td>\n",
       "      <td>A</td>\n",
       "      <td>89</td>\n",
       "      <td>A</td>\n",
       "      <td>91</td>\n",
       "      <td>A</td>\n",
       "      <td>78</td>\n",
       "      <td>B</td>\n",
       "      <td>77</td>\n",
       "      <td>B</td>\n",
       "      <td>424</td>\n",
       "    </tr>\n",
       "    <tr>\n",
       "      <th>2</th>\n",
       "      <td>Tsinjekho Shimalabandu</td>\n",
       "      <td>99</td>\n",
       "      <td>A</td>\n",
       "      <td>97</td>\n",
       "      <td>A</td>\n",
       "      <td>99</td>\n",
       "      <td>A</td>\n",
       "      <td>91</td>\n",
       "      <td>A</td>\n",
       "      <td>99</td>\n",
       "      <td>A</td>\n",
       "      <td>485</td>\n",
       "    </tr>\n",
       "    <tr>\n",
       "      <th>3</th>\n",
       "      <td>Machina Makhacha</td>\n",
       "      <td>71</td>\n",
       "      <td>B</td>\n",
       "      <td>65</td>\n",
       "      <td>C</td>\n",
       "      <td>71</td>\n",
       "      <td>B</td>\n",
       "      <td>63</td>\n",
       "      <td>C</td>\n",
       "      <td>78</td>\n",
       "      <td>B</td>\n",
       "      <td>348</td>\n",
       "    </tr>\n",
       "  </tbody>\n",
       "</table>\n",
       "</div>"
      ],
      "text/plain": [
       "                      Name  English English_grade  Kiswahili Kiswahili_grade  \\\n",
       "0  Shibulishikanda Mwenesi       83             A         82               A   \n",
       "1          Pampido Mapango       89             A         89               A   \n",
       "2   Tsinjekho Shimalabandu       99             A         97               A   \n",
       "3         Machina Makhacha       71             B         65               C   \n",
       "\n",
       "   Maths Maths_grade  Science Science_grade  Music Music_grade  total  \n",
       "0     91           A       57             D     89           A    402  \n",
       "1     91           A       78             B     77           B    424  \n",
       "2     99           A       91             A     99           A    485  \n",
       "3     71           B       63             C     78           B    348  "
      ]
     },
     "execution_count": 10,
     "metadata": {},
     "output_type": "execute_result"
    }
   ],
   "source": [
    "import pandas as pd\n",
    "df = pd.DataFrame(Class_performance)\n",
    "df"
   ]
  }
 ],
 "metadata": {
  "kernelspec": {
   "display_name": "Python 3 (ipykernel)",
   "language": "python",
   "name": "python3"
  },
  "language_info": {
   "codemirror_mode": {
    "name": "ipython",
    "version": 3
   },
   "file_extension": ".py",
   "mimetype": "text/x-python",
   "name": "python",
   "nbconvert_exporter": "python",
   "pygments_lexer": "ipython3",
   "version": "3.11.3"
  }
 },
 "nbformat": 4,
 "nbformat_minor": 4
}
