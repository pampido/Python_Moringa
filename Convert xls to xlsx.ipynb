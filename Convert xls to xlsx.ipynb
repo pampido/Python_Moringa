{
 "cells": [
  {
   "cell_type": "code",
   "execution_count": 9,
   "id": "bfacec42",
   "metadata": {},
   "outputs": [
    {
     "name": "stderr",
     "output_type": "stream",
     "text": [
      "Matplotlib is building the font cache; this may take a moment.\n"
     ]
    },
    {
     "name": "stdout",
     "output_type": "stream",
     "text": [
      "Converted 309002.xls to 309002.xlsx\n",
      "Converted 119002.xls to 119002.xlsx\n",
      "Converted 109003.xls to 109003.xlsx\n",
      "Converted 99001.xls to 99001.xlsx\n",
      "Converted 99001.xls to 99001.xlsx\n",
      "Converted 289001.xls to 289001.xlsx\n",
      "Converted 259001.xls to 259001.xlsx\n",
      "Converted 259001.xls to 259001.xlsx\n",
      "Converted 259001.xls to 259001.xlsx\n",
      "Converted 169001.xls to 169001.xlsx\n",
      "Converted 169001.xls to 169001.xlsx\n",
      "Converted 169001.xls to 169001.xlsx\n",
      "Converted 169001.xls to 169001.xlsx\n",
      "Converted 169001.xls to 169001.xlsx\n"
     ]
    }
   ],
   "source": [
    "import os\n",
    "import xlwings as xw\n",
    "\n",
    "def convert_xls_to_xlsx(input_path):\n",
    "    for root, _, files in os.walk(input_path):\n",
    "        for file in files:\n",
    "            if file.endswith('.xls'):\n",
    "                xls_file_path = os.path.join(root, file)\n",
    "                xlsx_file_path = os.path.splitext(xls_file_path)[0] + '.xlsx'\n",
    "                \n",
    "                try:\n",
    "                    # Open the .xls file using xlwings\n",
    "                    wb = xw.Book(xls_file_path)\n",
    "                    \n",
    "                    # Save the .xlsx file using xlwings\n",
    "                    wb.save(xlsx_file_path)\n",
    "                    wb.close()\n",
    "                    \n",
    "                    print(f\"Converted {file} to {os.path.basename(xlsx_file_path)}\")\n",
    "                except Exception as e:\n",
    "                    print(f\"An error occurred while converting {file}: {e}\")\n",
    "\n",
    "if __name__ == \"__main__\":\n",
    "    input_directory = r\"C:\\Users\\USER\\Desktop\\DPOP\\RSD\\DCRT\\DCRT_SERVER\\INPUT\\TEMPLATE 9\"\n",
    "    convert_xls_to_xlsx(input_directory)\n"
   ]
  },
  {
   "cell_type": "code",
   "execution_count": null,
   "id": "91d9d5de",
   "metadata": {},
   "outputs": [],
   "source": []
  }
 ],
 "metadata": {
  "kernelspec": {
   "display_name": "Python 3 (ipykernel)",
   "language": "python",
   "name": "python3"
  },
  "language_info": {
   "codemirror_mode": {
    "name": "ipython",
    "version": 3
   },
   "file_extension": ".py",
   "mimetype": "text/x-python",
   "name": "python",
   "nbconvert_exporter": "python",
   "pygments_lexer": "ipython3",
   "version": "3.11.3"
  }
 },
 "nbformat": 4,
 "nbformat_minor": 5
}
