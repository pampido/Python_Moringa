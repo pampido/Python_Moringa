{
 "cells": [
  {
   "cell_type": "markdown",
   "id": "88a57efa",
   "metadata": {},
   "source": [
    "# Conditionals\n",
    "## if, elif & else"
   ]
  },
  {
   "cell_type": "code",
   "execution_count": 5,
   "id": "7b4a01b3",
   "metadata": {},
   "outputs": [
    {
     "name": "stdout",
     "output_type": "stream",
     "text": [
      "1\n"
     ]
    }
   ],
   "source": [
    "#Leave Days\n",
    "leave_days = 0\n",
    "\n",
    "leave_days = leave_days + 1\n",
    "\n",
    "print(leave_days)"
   ]
  },
  {
   "cell_type": "code",
   "execution_count": 11,
   "id": "deac93d5",
   "metadata": {},
   "outputs": [
    {
     "name": "stdout",
     "output_type": "stream",
     "text": [
      "7\n"
     ]
    }
   ],
   "source": [
    "#incrementing var by value\n",
    "leave_days +=1\n",
    "print(leave_days)"
   ]
  },
  {
   "cell_type": "code",
   "execution_count": 12,
   "id": "1a51d9b1",
   "metadata": {},
   "outputs": [
    {
     "name": "stdout",
     "output_type": "stream",
     "text": [
      "6\n"
     ]
    }
   ],
   "source": [
    "#Decrement value by 1\n",
    "leave_days -=1 #leave_days = leave_days - 1\n",
    "\n",
    "print(leave_days)"
   ]
  },
  {
   "cell_type": "code",
   "execution_count": 13,
   "id": "a679e118",
   "metadata": {},
   "outputs": [
    {
     "name": "stdout",
     "output_type": "stream",
     "text": [
      "20\n"
     ]
    }
   ],
   "source": [
    "leave_days = 21\n",
    "take_leave = True\n",
    "\n",
    "#Decide to take leave\n",
    "\n",
    "if take_leave:\n",
    "    leave_days -=1\n",
    "    \n",
    "    \n",
    "print(leave_days)"
   ]
  },
  {
   "cell_type": "code",
   "execution_count": 22,
   "id": "17be4d0e",
   "metadata": {},
   "outputs": [
    {
     "name": "stdout",
     "output_type": "stream",
     "text": [
      "You are underage\n"
     ]
    }
   ],
   "source": [
    "age = 12\n",
    "\n",
    "if age>18: #condition\n",
    "    print(\"You can have ID\")\n",
    "else:\n",
    "        print(\"You are underage\")"
   ]
  },
  {
   "cell_type": "code",
   "execution_count": 24,
   "id": "a3b0524d",
   "metadata": {},
   "outputs": [
    {
     "name": "stdout",
     "output_type": "stream",
     "text": [
      "Fail\n"
     ]
    }
   ],
   "source": [
    "score =  39\n",
    "\n",
    "if score > 40:\n",
    "    outcome = \"Pass\"\n",
    "else:\n",
    "    outcome = \"Fail\"\n",
    "    \n",
    "print(outcome)"
   ]
  },
  {
   "cell_type": "code",
   "execution_count": null,
   "id": "3601e7b3",
   "metadata": {},
   "outputs": [],
   "source": [
    "age = 19\n",
    "gender = \"Male\"\n",
    "if age<18 and gender ==\"Male\":\n",
    "    print(\"Boy\")\n",
    "\n",
    "    "
   ]
  },
  {
   "cell_type": "markdown",
   "id": "6315e105",
   "metadata": {},
   "source": [
    "# AND\n",
    "#used to join Two or More Conditions\n",
    "#eg students who score above 40 and below 50 attain a certain grade\n",
    "#NOTE: AND  both conditions must be True\n"
   ]
  },
  {
   "cell_type": "markdown",
   "id": "a9d6c79c",
   "metadata": {},
   "source": [
    "#Summary\n",
    "|Condition 1| Condition 2| Final Condition|\n",
    "|:---------:|:----------:|:--------------:|\n",
    "|True|True|True|\n",
    "|True|False|False|\n",
    "|False|True|False|\n",
    "|False|False|False|\n",
    "\n",
    "above 40 >> D\n",
    "above 50 >> C\n",
    "above 60 >> B\n",
    "above 70 >> A"
   ]
  },
  {
   "cell_type": "code",
   "execution_count": 33,
   "id": "23220d4c",
   "metadata": {},
   "outputs": [
    {
     "name": "stdout",
     "output_type": "stream",
     "text": [
      "FAIL\n"
     ]
    }
   ],
   "source": [
    "#grades\n",
    "grade = 27\n",
    "\n",
    "if grade >= 40 and grade < 50:\n",
    "    grade = \"D\"\n",
    "    print(grade)\n",
    "elif (grade >=50) and (grade < 60):\n",
    "    grade = \"C\"\n",
    "    print(grade)\n",
    "    \n",
    "elif (grade >=60) and (grade < 70):\n",
    "    grade = \"B\"\n",
    "    print(grade)\n",
    "    \n",
    "elif (grade >70):\n",
    "    grade = \"A\"\n",
    "    print(grade)\n",
    "    \n",
    "else:\n",
    "    print(\"FAIL\")"
   ]
  },
  {
   "cell_type": "markdown",
   "id": "3feeecc5",
   "metadata": {},
   "source": [
    "# OR\n",
    "* Just like AND its is used to join conditions\n",
    "* At least one condition has be True\n"
   ]
  },
  {
   "cell_type": "code",
   "execution_count": 37,
   "id": "3e7a711c",
   "metadata": {},
   "outputs": [
    {
     "name": "stdout",
     "output_type": "stream",
     "text": [
      "You can go into the bouncing castle\n"
     ]
    }
   ],
   "source": [
    "height = 35\n",
    "\n",
    "weight = 20\n",
    "\n",
    "if (height < 40) or (weight > 50):\n",
    "    print(\"You can go into the bouncing castle\")"
   ]
  },
  {
   "cell_type": "markdown",
   "id": "85a686a3",
   "metadata": {},
   "source": [
    "#Summary\n",
    "|Condition 1| Condition 2| Final Condition|\n",
    "|:---------:|:----------:|:--------------:|\n",
    "|True|True|True|\n",
    "|True|False|True|\n",
    "|False|True|True|\n",
    "|False|False|False|"
   ]
  },
  {
   "cell_type": "code",
   "execution_count": 39,
   "id": "436f39e6",
   "metadata": {},
   "outputs": [
    {
     "name": "stdout",
     "output_type": "stream",
     "text": [
      "You can go into the bouncing castle\n"
     ]
    }
   ],
   "source": [
    "height = 65\n",
    "\n",
    "weight = 90\n",
    "\n",
    "if (height < 40) or (weight > 50):\n",
    "    print(\"You can go into the bouncing castle\")\n",
    "else: \n",
    "    print(\"You will destroy the Bouncing Castle\")\n",
    "    "
   ]
  },
  {
   "cell_type": "code",
   "execution_count": 3,
   "id": "76076d4e",
   "metadata": {},
   "outputs": [
    {
     "name": "stdout",
     "output_type": "stream",
     "text": [
      "This is an Even number\n"
     ]
    }
   ],
   "source": [
    "#Assignment number 1\n",
    "number = 78\n",
    "quotient = (number%2)\n",
    "if (quotient == 0):\n",
    "    number = \"This is an Even number\"\n",
    "    print(number)\n",
    "else: print(\"This is an Odd number\")"
   ]
  },
  {
   "cell_type": "code",
   "execution_count": 6,
   "id": "2ce444a2",
   "metadata": {},
   "outputs": [
    {
     "name": "stdout",
     "output_type": "stream",
     "text": [
      "This is a Leap year\n"
     ]
    }
   ],
   "source": [
    "#Assignment number 2\n",
    "Year = 2020\n",
    "quotient_1 = (Year%4)\n",
    "quotient_2 = (Year%100)\n",
    "quotient_3 = (Year%400)\n",
    "if (quotient_1 == 0 and quotient_2 != 0) or (quotient_1 == 0 and quotient_3 == 0):\n",
    "    Year = \"This is a Leap year\"\n",
    "    print(Year)\n",
    "else: print(\"This is not a leap year\")"
   ]
  },
  {
   "cell_type": "code",
   "execution_count": 7,
   "id": "85a8fd60",
   "metadata": {},
   "outputs": [
    {
     "name": "stdout",
     "output_type": "stream",
     "text": [
      "Price: Ksh.800\n"
     ]
    }
   ],
   "source": [
    "# Assignment number 3\n",
    "#age < 13 ......... price Ksh.400\n",
    "#age 13 <= age<= 17 ......Ksh.600\n",
    "#age 18 <= age<= 65...... Ksh.800\n",
    "#age > 65............... Ksh.350\n",
    "\n",
    "age = 42\n",
    "if (age < 13):\n",
    "    age = \"Price: Ksh.400\"\n",
    "    print(age)\n",
    "    \n",
    "elif (age >=13) and (age <= 17):\n",
    "    age = \"Price: Ksh.600\"\n",
    "    print(age)\n",
    "    \n",
    "elif (age >= 18) and (age <= 65):\n",
    "    age = \"Price: Ksh.800\"\n",
    "    print(age)\n",
    "    \n",
    "elif (age > 65):\n",
    "    age = \"Price: Ksh.350\"\n",
    "    print(age)\n",
    "    "
   ]
  }
 ],
 "metadata": {
  "kernelspec": {
   "display_name": "Python 3 (ipykernel)",
   "language": "python",
   "name": "python3"
  },
  "language_info": {
   "codemirror_mode": {
    "name": "ipython",
    "version": 3
   },
   "file_extension": ".py",
   "mimetype": "text/x-python",
   "name": "python",
   "nbconvert_exporter": "python",
   "pygments_lexer": "ipython3",
   "version": "3.11.3"
  }
 },
 "nbformat": 4,
 "nbformat_minor": 5
}
