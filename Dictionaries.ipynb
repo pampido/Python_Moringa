{
 "cells": [
  {
   "cell_type": "markdown",
   "id": "ce9e902e",
   "metadata": {},
   "source": [
    "# Dictionaries\n",
    "* Data type that stores data using **\"Key Value Pairs\".\n",
    "* Use curly braces {} to define dictionaries in python\n",
    "* Syntax\n",
    "\n"
   ]
  },
  {
   "cell_type": "code",
   "execution_count": 2,
   "id": "439273e6",
   "metadata": {},
   "outputs": [
    {
     "name": "stdout",
     "output_type": "stream",
     "text": [
      "{'Name': 'Martin Astiba', 'Id': 33037, 'Gende': 'Male'}\n"
     ]
    }
   ],
   "source": [
    "# Example of a dictionary\n",
    "student = {\n",
    "   \"Name\": \"Martin Astiba\",\n",
    "    \"Id\" : 33037,\n",
    "    \"Gende\": \"Male\"\n",
    "}\n",
    "print(student)"
   ]
  },
  {
   "cell_type": "code",
   "execution_count": 6,
   "id": "325b7775",
   "metadata": {},
   "outputs": [
    {
     "name": "stdout",
     "output_type": "stream",
     "text": [
      "{'sky': ['Nyambane', 'Yussuf', 'Eugene'], 'friends of sky': ['Martin', 'Lumumba', 'Chemu'], 'kitchen cabinet': ['Maggy', 'Eva', 'Linda'], 'office keepers': ['Kocheli', 'Ngobiro', 'John']}\n"
     ]
    }
   ],
   "source": [
    "office = {\n",
    "    \"sky\" : [\"Nyambane\", \"Yussuf\", \"Eugene\"],\n",
    "    \"friends of sky\" : [\"Martin\", \"Lumumba\", \"Chemu\"],\n",
    "    \"kitchen cabinet\" : [\"Maggy\", \"Eva\", \"Linda\"],\n",
    "    \"office keepers\" : [\"Kocheli\", \"Ngobiro\", \"John\"]\n",
    "}\n",
    "print(office)"
   ]
  },
  {
   "cell_type": "code",
   "execution_count": 9,
   "id": "acc3491e",
   "metadata": {},
   "outputs": [
    {
     "data": {
      "text/plain": [
       "dict_keys(['sky', 'friends of sky', 'kitchen cabinet', 'office keepers'])"
      ]
     },
     "execution_count": 9,
     "metadata": {},
     "output_type": "execute_result"
    }
   ],
   "source": [
    "# keys of the dictionaries\n",
    "office.keys()"
   ]
  },
  {
   "cell_type": "code",
   "execution_count": 11,
   "id": "e0ceed76",
   "metadata": {},
   "outputs": [
    {
     "data": {
      "text/plain": [
       "['Nyambane', 'Yussuf', 'Eugene']"
      ]
     },
     "execution_count": 11,
     "metadata": {},
     "output_type": "execute_result"
    }
   ],
   "source": [
    "#  Access key values in a dic using keys\n",
    "# Syntax dict_name[key]\n",
    "office[\"sky\"]"
   ]
  },
  {
   "cell_type": "code",
   "execution_count": 18,
   "id": "342a1515",
   "metadata": {},
   "outputs": [
    {
     "name": "stdout",
     "output_type": "stream",
     "text": [
      "{'sky': ['Nyambane', 'Yussuf', 'Eugene', 'Kimalu', 'Kimalu', 'Kimalu', 'Kimalu'], 'friends of sky': ['Martin', 'Lumumba', 'Chemu'], 'kitchen cabinet': ['Maggy', 'Eva', 'Linda'], 'office keepers': ['Kocheli', 'Ngobiro', 'John']}\n"
     ]
    }
   ],
   "source": [
    "# Rem lists append?\n",
    "office[\"sky\"].append(\"Kimalu\")\n",
    "#print(office)"
   ]
  },
  {
   "cell_type": "code",
   "execution_count": 28,
   "id": "54a54866",
   "metadata": {},
   "outputs": [
    {
     "name": "stdout",
     "output_type": "stream",
     "text": [
      "Martin\n"
     ]
    }
   ],
   "source": [
    "print(office[\"friends of sky\"][0])"
   ]
  },
  {
   "cell_type": "code",
   "execution_count": 38,
   "id": "5039499d",
   "metadata": {},
   "outputs": [
    {
     "name": "stdout",
     "output_type": "stream",
     "text": [
      "Martin had the following Masala and Ugali and Sukuma and Chicken\n"
     ]
    }
   ],
   "source": [
    "menu = {\n",
    "    \"Breakfast\" :{\n",
    "        \"Beverages\" : {\n",
    "            \"Tea\" : [\"Masala\",\"Ginger\",\"Caramel\"],\n",
    "            \"Coffee\" : [\"Black\",\"White\",\"Latte\"],\n",
    "            \"Cocoa\" : [\"White\",\"White\"]\n",
    "        },\n",
    "        \"Accompaniments\" : {\n",
    "            \"Wings\" : [\"Hot Wings\", \"Spicy\", \"Lemon\",\"Lemon and Herbs\"],\n",
    "            \"Kienyeji\" : [\"Nduma\", \"Ngwace\", \"Muhogo\"]\n",
    "        },\n",
    "        \n",
    "    },\n",
    "    \"Lunch\" : {\n",
    "        \"Carbos\" : [\"Ugali\", \"Mokimo\", \"Rice\"],\n",
    "        \"Veges\" : [\"Sukuma\", \"Cabbage\"],\n",
    "        \"Proteins\" : [\"Chicken\", \"Fish\", \"Mutton\"]\n",
    "    }\n",
    "}\n",
    "\n",
    "print(\"Martin had the following \" + menu[\"Breakfast\"][\"Beverages\"][\"Tea\"][0] + \" and \" +menu[\"Lunch\"][\"Carbos\"][0] + \" and \" +menu[\"Lunch\"][\"Veges\"][0] + \" and \" +menu[\"Lunch\"][\"Proteins\"][0] )"
   ]
  }
 ],
 "metadata": {
  "kernelspec": {
   "display_name": "Python 3 (ipykernel)",
   "language": "python",
   "name": "python3"
  },
  "language_info": {
   "codemirror_mode": {
    "name": "ipython",
    "version": 3
   },
   "file_extension": ".py",
   "mimetype": "text/x-python",
   "name": "python",
   "nbconvert_exporter": "python",
   "pygments_lexer": "ipython3",
   "version": "3.11.3"
  }
 },
 "nbformat": 4,
 "nbformat_minor": 5
}
