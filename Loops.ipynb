{
 "cells": [
  {
   "cell_type": "markdown",
   "id": "a20a6f3a",
   "metadata": {},
   "source": [
    "# Objectives\n",
    "\n",
    "## Introduction to Repetition\n",
    "* Repetition is a fundamental concept in programming that involves performing the same set of instructions multiple times.\n",
    "* Used to automate tasks that require repeated execution of code eg the Mpesa Menu\n",
    "* Loops are  a key mechanism in programming to achieve this repitition effectively\n",
    "\n"
   ]
  },
  {
   "cell_type": "code",
   "execution_count": 1,
   "id": "83b64937",
   "metadata": {},
   "outputs": [
    {
     "name": "stdout",
     "output_type": "stream",
     "text": [
      "1\n",
      "2\n",
      "3\n",
      "4\n",
      "5\n"
     ]
    }
   ],
   "source": [
    "#counting 1 to 5\n",
    "print(1)\n",
    "print(2)\n",
    "print(3)\n",
    "print(4)\n",
    "print(5)"
   ]
  },
  {
   "cell_type": "code",
   "execution_count": 2,
   "id": "968b7a71",
   "metadata": {},
   "outputs": [
    {
     "name": "stdout",
     "output_type": "stream",
     "text": [
      "1\n",
      "2\n",
      "3\n",
      "4\n",
      "5\n",
      "6\n",
      "7\n",
      "8\n",
      "9\n"
     ]
    }
   ],
   "source": [
    "# Prog loops to automate such\n",
    "for num in range(1,10):\n",
    "    print(num)"
   ]
  },
  {
   "cell_type": "code",
   "execution_count": 4,
   "id": "583d3a8c",
   "metadata": {},
   "outputs": [
    {
     "name": "stdout",
     "output_type": "stream",
     "text": [
      "Number:  0\n",
      "Number:  1\n",
      "Number:  2\n",
      "Number:  3\n",
      "Number:  4\n"
     ]
    }
   ],
   "source": [
    "# Using while loops\n",
    "count = 0\n",
    "while count <5:\n",
    "    print(\"Number: \", count)\n",
    "    count += 1"
   ]
  },
  {
   "cell_type": "markdown",
   "id": "ce584e32",
   "metadata": {},
   "source": [
    "* Loop is a prog construct that enables the repeated execution of a block of code\n",
    "* Used to automate a task that needs to be performed multiple times\n",
    "* They control the flow of the program, allowing certain code to be executed repeatedly until a condition is met "
   ]
  },
  {
   "cell_type": "code",
   "execution_count": 29,
   "id": "26d880d4",
   "metadata": {},
   "outputs": [
    {
     "name": "stdout",
     "output_type": "stream",
     "text": [
      "[2, 4, 6, 8]\n",
      "[9, 7, 5, 3, 1]\n"
     ]
    }
   ],
   "source": [
    "#List of Numbers\n",
    "numbers = [1, 2, 3, 4, 5, 6, 7, 8, 9]\n",
    "\n",
    "#empty_list\n",
    "even_numbers =[]\n",
    "odd_numbers = []\n",
    "for num in numbers:\n",
    "    if (num % 2 ==0):\n",
    "        even_numbers.append(num)\n",
    "    elif (num % 2 ==1):\n",
    "        odd_numbers.insert(0,num)\n",
    "print(even_numbers)\n",
    "print(odd_numbers)"
   ]
  },
  {
   "cell_type": "code",
   "execution_count": 22,
   "id": "c070373e",
   "metadata": {},
   "outputs": [
    {
     "name": "stdout",
     "output_type": "stream",
     "text": [
      "55\n",
      "55\n"
     ]
    }
   ],
   "source": [
    "# Sum numbers\n",
    "sum = 1 + 2 + 3 + 4 + 5 + 6 + 7 + 8 + 9 + 10\n",
    "print(sum)\n",
    "\n",
    "#using a for loop to do the above\n",
    "\n",
    "sum_2 = 0\n",
    "for num in range(1,11): #range(1,11)>>all numbers btn 1 and 11  excluding 11\n",
    "    sum_2+=num\n",
    "print(sum_2)"
   ]
  },
  {
   "cell_type": "markdown",
   "id": "8585ddf3",
   "metadata": {},
   "source": [
    "## Control Flow \n",
    "* loops influence order of execution\n",
    "* When loop is encountered, loop enters loop body, executing contained code\n",
    "```\n",
    "loop made of a condition:\n",
    "    contained block of \n",
    "    code to be executed\n",
    "    when condition is true/met\n",
    " \n",
    " Program exits (loop is done)\n",
    " ```\n",
    " * At each iteration, the prog checks the loop condition. If the cond== **True**, the loop is executed again.\n",
    " * If cond becomes **False**, the prog exits the loop.\n",
    " * **Iteration** refers to each cycle/ repetition of a loop \n",
    "  "
   ]
  },
  {
   "cell_type": "code",
   "execution_count": 24,
   "id": "d492e788",
   "metadata": {},
   "outputs": [
    {
     "name": "stdout",
     "output_type": "stream",
     "text": [
      "This is an example of a loop\n",
      "We are demo'ing while loops\n",
      "Countdown value:  5!!\n",
      "Countdown value:  4!!\n",
      "Countdown value:  3!!\n",
      "Countdown value:  2!!\n",
      "Countdown value:  1!!\n",
      "Exit Loop and prog continues!!\n"
     ]
    }
   ],
   "source": [
    "#Demo control Flow\n",
    "print(\"This is an example of a loop\")\n",
    "print(\"We are demo'ing while loops\")\n",
    "\n",
    "#loop to sim count down\n",
    "countdown = 5\n",
    "\n",
    "#prog meets while loop\n",
    "while (countdown > 0):\n",
    "    print(f\"Countdown value:  {countdown}!!\")\n",
    "    countdown -= 1\n",
    "    \n",
    "#prog exits loop\n",
    "print(\"Exit Loop and prog continues!!\")"
   ]
  },
  {
   "cell_type": "markdown",
   "id": "df55ce4e",
   "metadata": {},
   "source": [
    "## Types of Loops\n",
    "* There are two main types of loops in python:\n",
    ">> ```for``` and ```while```\n",
    "* Type of loops depends on whether you knw the number of iterations in advance or if it depends on a condition\n",
    "* When you knw the number of iterations use ```while``` loop. When you dont, use ```for``` loop"
   ]
  },
  {
   "cell_type": "markdown",
   "id": "10e51a56",
   "metadata": {},
   "source": [
    "### For Loop\n",
    "\n",
    "* Basic syntax \n",
    "\n",
    "```\n",
    "for item in sequence:\n",
    "    # code to be executed for each item\n",
    "    # ...\n",
    "```\n",
    "\n",
    "* `for`: Keyword that signals the start of a for loop.\n",
    "* `item`: Is a variable that represents the current item in the sequence during each iteration of the loop.\n",
    "* `in` : A keyword used to specify that you are iterating *in* the given sequence.\n",
    "* `sequence` : Collection of items that you want to iterate over (e.g., list, string, tuple, or range).\n",
    "* `:` : Signifies the start of the ind\n",
    "dented code block that will be executed for each iteration of the loop. \n",
    "\n",
    "Inside the indented code block, you place the actions or operations that you want to perform on each item in the sequence.The loop will automatically iterate through the entire sequence, executing the code block for each item."
   ]
  },
  {
   "cell_type": "code",
   "execution_count": 2,
   "id": "b95faba8",
   "metadata": {},
   "outputs": [
    {
     "name": "stdout",
     "output_type": "stream",
     "text": [
      "Kisumu\n",
      "Kisii\n",
      "Nyamira\n",
      "Homa Bay\n",
      "Migori\n"
     ]
    }
   ],
   "source": [
    "# Code demo\n",
    "high_courts = ['Kisumu', 'Kisii','Nyamira','Homa Bay', 'Migori', 'Kitale']\n",
    "for court in high_courts:\n",
    "    print(court)\n",
    "    if (court == 'Migori'):\n",
    "        break;"
   ]
  },
  {
   "cell_type": "markdown",
   "id": "babf1e44",
   "metadata": {},
   "source": [
    "### Sequence Types\n",
    "\n",
    "* Ref to data structures that hold a collection of elements, where each element is accessible by an index or key.\n",
    "* These elements are ordered,.eanng they have a specific position within the sequence\n",
    "\n"
   ]
  },
  {
   "cell_type": "code",
   "execution_count": 6,
   "id": "fb4eefe9",
   "metadata": {},
   "outputs": [
    {
     "name": "stdout",
     "output_type": "stream",
     "text": [
      "['Kisumu', 'Kisii', 'Nyamira', 'Homa Bay', 'Migori', 'Kitale']\n",
      "Homa Bay\n"
     ]
    }
   ],
   "source": [
    "# list\n",
    "print(high_courts)\n",
    "\n",
    "# Accessing elements /items in a list\n",
    "print(high_courts[3])\n"
   ]
  },
  {
   "cell_type": "code",
   "execution_count": 7,
   "id": "6f4d9103",
   "metadata": {},
   "outputs": [
    {
     "name": "stdout",
     "output_type": "stream",
     "text": [
      "kisumu\n",
      "kisii\n",
      "nyamira\n",
      "homa bay\n",
      "migori\n",
      "kitale\n"
     ]
    }
   ],
   "source": [
    "\n",
    "# looping thru list\n",
    "for court in high_courts:\n",
    "    lower_case = court.lower()\n",
    "    print(lower_case)"
   ]
  },
  {
   "cell_type": "code",
   "execution_count": 9,
   "id": "065d65dc",
   "metadata": {},
   "outputs": [
    {
     "name": "stdout",
     "output_type": "stream",
     "text": [
      "('Kocheli', 'Solo', 'Nyambane', 'Yussuf')\n",
      "Kocheli\n"
     ]
    }
   ],
   "source": [
    "# tuple  > Similar to list but its imutable, meaning it cannot be changed\n",
    "# Syntax tuple_name = (item_1, item_2, item_3,......item_n )\n",
    "\n",
    "noise_makers = ('Kocheli', 'Solo', 'Nyambane', 'Yussuf')\n",
    "print(noise_makers)\n",
    "\n",
    "# Accessing items in a tuple is same as accessing items in a list\n",
    "print(noise_makers[0])"
   ]
  },
  {
   "cell_type": "code",
   "execution_count": 10,
   "id": "9ccf8277",
   "metadata": {},
   "outputs": [
    {
     "name": "stdout",
     "output_type": "stream",
     "text": [
      "Kocheli\n",
      "Solo\n",
      "Nyambane\n",
      "Yussuf\n"
     ]
    }
   ],
   "source": [
    "# looping a tuple\n",
    "\n",
    "for notorious in noise_makers:\n",
    "    print(notorious)"
   ]
  }
 ],
 "metadata": {
  "kernelspec": {
   "display_name": "Python 3 (ipykernel)",
   "language": "python",
   "name": "python3"
  },
  "language_info": {
   "codemirror_mode": {
    "name": "ipython",
    "version": 3
   },
   "file_extension": ".py",
   "mimetype": "text/x-python",
   "name": "python",
   "nbconvert_exporter": "python",
   "pygments_lexer": "ipython3",
   "version": "3.11.3"
  }
 },
 "nbformat": 4,
 "nbformat_minor": 5
}
