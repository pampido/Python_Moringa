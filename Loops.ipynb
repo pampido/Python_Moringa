{
 "cells": [
  {
   "cell_type": "markdown",
   "id": "a20a6f3a",
   "metadata": {},
   "source": [
    "# Objectives\n",
    "\n",
    "## Introduction to Repetition\n",
    "* Repetition is a fundamental concept in programming that involves performing the same set of instructions multiple times.\n",
    "* Used to automate tasks that require repeated execution of code eg the Mpesa Menu\n",
    "* Loops are  a key mechanism in programming to achieve this repitition effectively\n",
    "\n"
   ]
  },
  {
   "cell_type": "code",
   "execution_count": 1,
   "id": "83b64937",
   "metadata": {},
   "outputs": [
    {
     "name": "stdout",
     "output_type": "stream",
     "text": [
      "1\n",
      "2\n",
      "3\n",
      "4\n",
      "5\n"
     ]
    }
   ],
   "source": [
    "#counting 1 to 5\n",
    "print(1)\n",
    "print(2)\n",
    "print(3)\n",
    "print(4)\n",
    "print(5)"
   ]
  },
  {
   "cell_type": "code",
   "execution_count": 2,
   "id": "968b7a71",
   "metadata": {},
   "outputs": [
    {
     "name": "stdout",
     "output_type": "stream",
     "text": [
      "1\n",
      "2\n",
      "3\n",
      "4\n",
      "5\n",
      "6\n",
      "7\n",
      "8\n",
      "9\n"
     ]
    }
   ],
   "source": [
    "# Prog loops to automate such\n",
    "for num in range(1,10):\n",
    "    print(num)"
   ]
  },
  {
   "cell_type": "code",
   "execution_count": 4,
   "id": "583d3a8c",
   "metadata": {},
   "outputs": [
    {
     "name": "stdout",
     "output_type": "stream",
     "text": [
      "Number:  0\n",
      "Number:  1\n",
      "Number:  2\n",
      "Number:  3\n",
      "Number:  4\n"
     ]
    }
   ],
   "source": [
    "# Using while loops\n",
    "count = 0\n",
    "while count <5:\n",
    "    print(\"Number: \", count)\n",
    "    count += 1"
   ]
  },
  {
   "cell_type": "markdown",
   "id": "ce584e32",
   "metadata": {},
   "source": [
    "* Loop is a prog construct that enables the repeated execution of a block of code\n",
    "* Used to automate a task that needs to be performed multiple times\n",
    "* They control the flow of the program, allowing certain code to be executed repeatedly until a condition is met "
   ]
  },
  {
   "cell_type": "code",
   "execution_count": 29,
   "id": "26d880d4",
   "metadata": {},
   "outputs": [
    {
     "name": "stdout",
     "output_type": "stream",
     "text": [
      "[2, 4, 6, 8]\n",
      "[9, 7, 5, 3, 1]\n"
     ]
    }
   ],
   "source": [
    "#List of Numbers\n",
    "numbers = [1, 2, 3, 4, 5, 6, 7, 8, 9]\n",
    "\n",
    "#empty_list\n",
    "even_numbers =[]\n",
    "odd_numbers = []\n",
    "for num in numbers:\n",
    "    if (num % 2 ==0):\n",
    "        even_numbers.append(num)\n",
    "    elif (num % 2 ==1):\n",
    "        odd_numbers.insert(0,num)\n",
    "print(even_numbers)\n",
    "print(odd_numbers)"
   ]
  },
  {
   "cell_type": "code",
   "execution_count": 22,
   "id": "c070373e",
   "metadata": {},
   "outputs": [
    {
     "name": "stdout",
     "output_type": "stream",
     "text": [
      "55\n",
      "55\n"
     ]
    }
   ],
   "source": [
    "# Sum numbers\n",
    "sum = 1 + 2 + 3 + 4 + 5 + 6 + 7 + 8 + 9 + 10\n",
    "print(sum)\n",
    "\n",
    "#using a for loop to do the above\n",
    "\n",
    "sum_2 = 0\n",
    "for num in range(1,11): #range(1,11)>>all numbers btn 1 and 11  excluding 11\n",
    "    sum_2+=num\n",
    "print(sum_2)"
   ]
  },
  {
   "cell_type": "markdown",
   "id": "8585ddf3",
   "metadata": {},
   "source": [
    "## Control Flow \n",
    "* loops influence order of execution\n",
    "* When loop is encountered, loop enters loop body, executing contained code\n",
    "```\n",
    "loop made of a condition:\n",
    "    contained block of \n",
    "    code to be executed\n",
    "    when condition is true/met\n",
    " \n",
    " Program exits (loop is done)\n",
    " ```\n",
    " * At each iteration, the prog checks the loop condition. If the cond== **True**, the loop is executed again.\n",
    " * If cond becomes **False**, the prog exits the loop.\n",
    " * **Iteration** refers to each cycle/ repetition of a loop \n",
    "  "
   ]
  },
  {
   "cell_type": "code",
   "execution_count": 24,
   "id": "d492e788",
   "metadata": {},
   "outputs": [
    {
     "name": "stdout",
     "output_type": "stream",
     "text": [
      "This is an example of a loop\n",
      "We are demo'ing while loops\n",
      "Countdown value:  5!!\n",
      "Countdown value:  4!!\n",
      "Countdown value:  3!!\n",
      "Countdown value:  2!!\n",
      "Countdown value:  1!!\n",
      "Exit Loop and prog continues!!\n"
     ]
    }
   ],
   "source": [
    "#Demo control Flow\n",
    "print(\"This is an example of a loop\")\n",
    "print(\"We are demo'ing while loops\")\n",
    "\n",
    "#loop to sim count down\n",
    "countdown = 5\n",
    "\n",
    "#prog meets while loop\n",
    "while (countdown > 0):\n",
    "    print(f\"Countdown value:  {countdown}!!\")\n",
    "    countdown -= 1\n",
    "    \n",
    "#prog exits loop\n",
    "print(\"Exit Loop and prog continues!!\")"
   ]
  },
  {
   "cell_type": "markdown",
   "id": "df55ce4e",
   "metadata": {},
   "source": [
    "## Types of Loops\n",
    "* There are two main types of loops in python:\n",
    ">> ```for``` and ```while```\n",
    "* Type of loops depends on whether you knw the number of iterations in advance or if it depends on a condition\n",
    "* When you knw the number of iterations use ```while``` loop. When you dont, use ```for``` loop"
   ]
  },
  {
   "cell_type": "markdown",
   "id": "10e51a56",
   "metadata": {},
   "source": [
    "### For Loop\n",
    "\n",
    "* Basic syntax \n",
    "\n",
    "```\n",
    "for item in sequence:\n",
    "    # code to be executed for each item\n",
    "    # ...\n",
    "```\n",
    "\n",
    "* `for`: Keyword that signals the start of a for loop.\n",
    "* `item`: Is a variable that represents the current item in the sequence during each iteration of the loop.\n",
    "* `in` : A keyword used to specify that you are iterating *in* the given sequence.\n",
    "* `sequence` : Collection of items that you want to iterate over (e.g., list, string, tuple, or range).\n",
    "* `:` : Signifies the start of the ind\n",
    "dented code block that will be executed for each iteration of the loop. \n",
    "\n",
    "Inside the indented code block, you place the actions or operations that you want to perform on each item in the sequence.The loop will automatically iterate through the entire sequence, executing the code block for each item."
   ]
  },
  {
   "cell_type": "code",
   "execution_count": 2,
   "id": "b95faba8",
   "metadata": {},
   "outputs": [
    {
     "name": "stdout",
     "output_type": "stream",
     "text": [
      "Kisumu\n",
      "Kisii\n",
      "Nyamira\n",
      "Homa Bay\n",
      "Migori\n"
     ]
    }
   ],
   "source": [
    "# Code demo\n",
    "high_courts = ['Kisumu', 'Kisii','Nyamira','Homa Bay', 'Migori', 'Kitale']\n",
    "for court in high_courts:\n",
    "    print(court)\n",
    "    if (court == 'Migori'):\n",
    "        break;"
   ]
  },
  {
   "cell_type": "markdown",
   "id": "babf1e44",
   "metadata": {},
   "source": [
    "### Sequence Types\n",
    "\n",
    "* Ref to data structures that hold a collection of elements, where each element is accessible by an index or key.\n",
    "* These elements are ordered,.eanng they have a specific position within the sequence\n",
    "\n"
   ]
  },
  {
   "cell_type": "code",
   "execution_count": 6,
   "id": "fb4eefe9",
   "metadata": {},
   "outputs": [
    {
     "name": "stdout",
     "output_type": "stream",
     "text": [
      "['Kisumu', 'Kisii', 'Nyamira', 'Homa Bay', 'Migori', 'Kitale']\n",
      "Homa Bay\n"
     ]
    }
   ],
   "source": [
    "# list\n",
    "print(high_courts)\n",
    "\n",
    "# Accessing elements /items in a list\n",
    "print(high_courts[3])\n"
   ]
  },
  {
   "cell_type": "code",
   "execution_count": 7,
   "id": "6f4d9103",
   "metadata": {},
   "outputs": [
    {
     "name": "stdout",
     "output_type": "stream",
     "text": [
      "kisumu\n",
      "kisii\n",
      "nyamira\n",
      "homa bay\n",
      "migori\n",
      "kitale\n"
     ]
    }
   ],
   "source": [
    "\n",
    "# looping thru list\n",
    "for court in high_courts:\n",
    "    lower_case = court.lower()\n",
    "    print(lower_case)"
   ]
  },
  {
   "cell_type": "code",
   "execution_count": 9,
   "id": "065d65dc",
   "metadata": {},
   "outputs": [
    {
     "name": "stdout",
     "output_type": "stream",
     "text": [
      "('Kocheli', 'Solo', 'Nyambane', 'Yussuf')\n",
      "Kocheli\n"
     ]
    }
   ],
   "source": [
    "# tuple  > Similar to list but its imutable, meaning it cannot be changed\n",
    "# Syntax tuple_name = (item_1, item_2, item_3,......item_n )\n",
    "\n",
    "noise_makers = ('Kocheli', 'Solo', 'Nyambane', 'Yussuf')\n",
    "print(noise_makers)\n",
    "\n",
    "# Accessing items in a tuple is same as accessing items in a list\n",
    "print(noise_makers[0])"
   ]
  },
  {
   "cell_type": "code",
   "execution_count": 10,
   "id": "9ccf8277",
   "metadata": {},
   "outputs": [
    {
     "name": "stdout",
     "output_type": "stream",
     "text": [
      "Kocheli\n",
      "Solo\n",
      "Nyambane\n",
      "Yussuf\n"
     ]
    }
   ],
   "source": [
    "# looping a tuple\n",
    "\n",
    "for notorious in noise_makers:\n",
    "    print(notorious)"
   ]
  },
  {
   "cell_type": "code",
   "execution_count": 1,
   "id": "3690b5c1",
   "metadata": {},
   "outputs": [
    {
     "name": "stdout",
     "output_type": "stream",
     "text": [
      "J\n",
      "u\n",
      "d\n",
      "i\n",
      "c\n",
      "i\n",
      "a\n",
      "r\n",
      "y\n"
     ]
    }
   ],
   "source": [
    "# Iterate thru a string\n",
    "\n",
    "word = 'Judiciary'\n",
    "for char in word:\n",
    "    print(char)"
   ]
  },
  {
   "cell_type": "code",
   "execution_count": 4,
   "id": "9098cce9",
   "metadata": {},
   "outputs": [
    {
     "name": "stdout",
     "output_type": "stream",
     "text": [
      "['J', 'u', 'd', 'i', 'c', 'i', 'a', 'r', 'y']\n"
     ]
    }
   ],
   "source": [
    "# Empty List to store chars\n",
    "word_chars= []\n",
    "\n",
    "for char in word:\n",
    "    word_chars.append(char)\n",
    "print(word_chars)"
   ]
  },
  {
   "cell_type": "code",
   "execution_count": 8,
   "id": "be24c4ac",
   "metadata": {},
   "outputs": [
    {
     "name": "stdout",
     "output_type": "stream",
     "text": [
      "[1, 3, 5, 7, 9]\n"
     ]
    }
   ],
   "source": [
    "# range . sequence in numbers with def start and end\n",
    "\n",
    "#Empty list to store odd numbers \n",
    "odd_nums = []\n",
    "for num in range(1, 10):\n",
    "    if (num % 2 == 1):\n",
    "        odd_nums.append(num)\n",
    "    \n",
    "print(odd_nums)"
   ]
  },
  {
   "cell_type": "code",
   "execution_count": 58,
   "id": "506d45c4",
   "metadata": {},
   "outputs": [
    {
     "name": "stdout",
     "output_type": "stream",
     "text": [
      "Hello Martin, welcome to Judiciary!!!\n"
     ]
    }
   ],
   "source": [
    "def greet_students(students_name):\n",
    "    message = f\"Hello {students_name}, welcome to Judiciary!!!\"\n",
    "    return print(message)\n",
    "\n",
    "greet_students('Martin')"
   ]
  },
  {
   "cell_type": "markdown",
   "id": "50d51178",
   "metadata": {},
   "source": [
    "## Loop Body\n",
    "* Ref block of code executed repeatedly for each iteration\n",
    "* Loop is designed to perform repeated tasks automatically and loop body contains the instructions.\n",
    "\n",
    "### Important points to consider\n",
    "1. **Indentation** - Loop body is indented to indicate the part of teh loop body.\n",
    "\n",
    "2. **Iteration** - Loop body is executed once for each item in the sequence being iterated.\n",
    "\n",
    "3. **Accessing Loop Variable** - Loop var value can be accessed inside the loop body  to perform specific to that value\n",
    "\n",
    "4. **Manipulation** - inside the loop body, you can perform various \n"
   ]
  },
  {
   "cell_type": "code",
   "execution_count": 2,
   "id": "c078a054",
   "metadata": {},
   "outputs": [
    {
     "name": "stdout",
     "output_type": "stream",
     "text": [
      "The square of 1 = 1\n",
      "The square of 2 = 4\n",
      "The square of 3 = 9\n",
      "The square of 4 = 16\n",
      "The square of 5 = 25\n"
     ]
    }
   ],
   "source": [
    "# example\n",
    "\n",
    "for num in range(1, 6):\n",
    "    square = num ** 2\n",
    "    print(f\"The square of {num} = {square}\")"
   ]
  },
  {
   "cell_type": "markdown",
   "id": "0f82428b",
   "metadata": {},
   "source": [
    "### `range()`\n",
    "\n",
    "* Function commonly used esp when working with loops\n",
    "* Gen a sequence of nums within a specified range, which can be used for various  purposes eg, iterating thru a loop  of certain numbers  or creating a  list of numbers.\n",
    "* `range()` takes up three arguments:\n",
    "\n",
    "1. **start(inclusive, optional)** - The starting value of the sequence. If omitted, the sequence starts at zero by default.\n",
    "2. **stop(exclusive)** - The ending value of a sequence. The sequence will run upto the value but **NOT** include the value in the sequence. Example: if start=0 and stop = 50, sequence will be all numbers including 0 to 49 but *NOT* 50\n",
    "3. **step(optional)** - The diff btn consecutive vallues in the sequence. The default value of step is **1**\n",
    "\n",
    "* syntax `range(start, stop, step)`"
   ]
  },
  {
   "cell_type": "markdown",
   "id": "498d8c1f",
   "metadata": {},
   "source": [
    "### Basic Range\n",
    "* Only using stop to gen sequence of nums 0 - 10\n",
    "* Rem if u dont include start or step, python will auto pick 0 and 1"
   ]
  },
  {
   "cell_type": "code",
   "execution_count": 22,
   "id": "7fd84680",
   "metadata": {},
   "outputs": [
    {
     "name": "stdout",
     "output_type": "stream",
     "text": [
      "0\n",
      "1\n",
      "2\n",
      "3\n",
      "4\n",
      "5\n"
     ]
    }
   ],
   "source": [
    "for num in range(6):\n",
    "    print(num)"
   ]
  },
  {
   "cell_type": "markdown",
   "id": "612648c7",
   "metadata": {},
   "source": [
    "### Specify Start and Stop\n",
    "* Gen a sequence where we specify start of a seq"
   ]
  },
  {
   "cell_type": "code",
   "execution_count": 27,
   "id": "842d3d9e",
   "metadata": {},
   "outputs": [
    {
     "name": "stdout",
     "output_type": "stream",
     "text": [
      "30\n",
      "31\n",
      "32\n",
      "33\n",
      "34\n",
      "35\n",
      "36\n",
      "37\n",
      "38\n",
      "39\n"
     ]
    }
   ],
   "source": [
    "for num in range(30, 40):\n",
    "    print(num)"
   ]
  },
  {
   "cell_type": "markdown",
   "id": "ed4233c1",
   "metadata": {},
   "source": [
    "### Specifying  Start, Stop, Step\n",
    "* **Step** is the diff btn two consecutive numbers\n"
   ]
  },
  {
   "cell_type": "code",
   "execution_count": 28,
   "id": "e4a57cfa",
   "metadata": {},
   "outputs": [
    {
     "name": "stdout",
     "output_type": "stream",
     "text": [
      "3\n",
      "6\n",
      "9\n",
      "12\n",
      "15\n",
      "18\n",
      "21\n",
      "24\n",
      "27\n",
      "30\n"
     ]
    }
   ],
   "source": [
    "for num in range(3, 31, 3):\n",
    "    print(num)"
   ]
  },
  {
   "cell_type": "code",
   "execution_count": 73,
   "id": "5d3f9587",
   "metadata": {},
   "outputs": [
    {
     "name": "stdout",
     "output_type": "stream",
     "text": [
      "Hello Prof, welcome to Judiciary!!!\n",
      "Hello Martin, welcome to Judiciary!!!\n",
      "Hello Lumumba, welcome to Judiciary!!!\n"
     ]
    }
   ],
   "source": [
    "student_names =[\"Prof\", \"Martin\", \"Lumumba\"]\n",
    "#loop body with a function\n",
    "for name in student_names:\n",
    "    greet_students(name)"
   ]
  },
  {
   "cell_type": "code",
   "execution_count": 45,
   "id": "abe13458",
   "metadata": {},
   "outputs": [
    {
     "name": "stdout",
     "output_type": "stream",
     "text": [
      "P\n",
      "r\n",
      "o\n",
      "f\n",
      "\n",
      "Prof\n",
      "Martin\n",
      "Lumumba\n",
      "Stan\n",
      "Kirui\n"
     ]
    }
   ],
   "source": [
    "\n",
    "item_1 = student_names[0]\n",
    "for letters in item_1:\n",
    "    print(letters)\n",
    "print()\n",
    "\n",
    "for students in student_names:\n",
    "    print(students)"
   ]
  },
  {
   "cell_type": "code",
   "execution_count": 42,
   "id": "c554d778",
   "metadata": {},
   "outputs": [
    {
     "name": "stdout",
     "output_type": "stream",
     "text": [
      "P\n",
      "r\n",
      "o\n",
      "f\n",
      "\n",
      "M\n",
      "a\n",
      "r\n",
      "t\n",
      "i\n",
      "n\n",
      "\n",
      "L\n",
      "u\n",
      "m\n",
      "u\n",
      "m\n",
      "b\n",
      "a\n",
      "\n",
      "S\n",
      "t\n",
      "a\n",
      "n\n",
      "\n",
      "K\n",
      "i\n",
      "r\n",
      "u\n",
      "i\n",
      "\n"
     ]
    }
   ],
   "source": [
    "# Nested Loops- loop within a loop\n",
    "    \n",
    "\n",
    "for student in student_names:\n",
    "    for letter in student:\n",
    "        print(letter)\n",
    "    print() # line break after every name\n"
   ]
  },
  {
   "cell_type": "code",
   "execution_count": 50,
   "id": "e19a1cde",
   "metadata": {},
   "outputs": [
    {
     "name": "stdout",
     "output_type": "stream",
     "text": [
      "* \n",
      "* * \n",
      "* * * \n",
      "* * * * \n"
     ]
    }
   ],
   "source": [
    "for i in range(1, 5):  \n",
    "    print('* ' * i)  \n"
   ]
  },
  {
   "cell_type": "code",
   "execution_count": 57,
   "id": "059ecf03",
   "metadata": {},
   "outputs": [
    {
     "name": "stdout",
     "output_type": "stream",
     "text": [
      "* \n",
      "* * \n",
      "* * * \n",
      "* * * * \n"
     ]
    }
   ],
   "source": [
    "# def the number of rows\n",
    "num_rows = 4\n",
    "\n",
    "# outer loop  for rows\n",
    "for i in range(num_rows):\n",
    "        # inner loop to print the asterix(*)\n",
    "        for j in range(i + 1):\n",
    "            print(\"*\", end=\" \") \n",
    "        # move next line after each row is printed\n",
    "        print()"
   ]
  },
  {
   "cell_type": "markdown",
   "id": "30b1627a",
   "metadata": {},
   "source": [
    "### Assignment\n",
    "* Print the following\n",
    "```\n",
    "      *\n",
    "    * *\n",
    "  * * *\n",
    "* * * *\n",
    "```"
   ]
  },
  {
   "cell_type": "code",
   "execution_count": 23,
   "id": "d6da6d0e",
   "metadata": {},
   "outputs": [
    {
     "name": "stdout",
     "output_type": "stream",
     "text": [
      "        * \n",
      "      * * \n",
      "    * * * \n",
      "  * * * * \n",
      "* * * * * \n"
     ]
    }
   ],
   "source": [
    "rows= 5 \n",
    "spaces = \" \"\n",
    "stars = '*'\n",
    "for i in range(rows):\n",
    "    for j in range(rows -i -1):\n",
    "        print(spaces, end=\" \")\n",
    "    for k in range(i + 1):\n",
    "        print (stars, end=\" \")\n",
    "    print()\n",
    "       "
   ]
  },
  {
   "cell_type": "code",
   "execution_count": 14,
   "id": "f7aca8be",
   "metadata": {},
   "outputs": [
    {
     "name": "stdout",
     "output_type": "stream",
     "text": [
      "      * \n",
      "    * * \n",
      "  * * * \n",
      "* * * * \n"
     ]
    }
   ],
   "source": [
    "rows = 4\n",
    "# looping thru each row\n",
    "for i in range(0, rows):\n",
    "    # looping thru columns\n",
    "    for j in range(rows -i -1):\n",
    "        print(\" \", end=\" \")\n",
    "        \n",
    "    for k in range(0, i+1):\n",
    "        print(\"*\", end=\" \")\n",
    "    print()    "
   ]
  },
  {
   "cell_type": "markdown",
   "id": "003a62b1",
   "metadata": {},
   "source": [
    "### Rugby Teams \n",
    "||Team|W|D|L|Pts|\n",
    "|:--|:-|--:|--:|--:|--:|\n",
    "|1|Kabras|3|0|0|9|\n",
    "|2|KCB|1|1|1|2|\n",
    "|3|Queens|0|1|2|1|\n",
    "|4|Strathmore|0|2|1|2|\n",
    "|5|Mean Machine|2|1|0|6|\n"
   ]
  },
  {
   "cell_type": "markdown",
   "id": "2ee7c1ca",
   "metadata": {},
   "source": [
    "## Break and Continue\n",
    "* They are **Control Flow** statements\n",
    "* **Break** - Used to immediately exit a loop when a certain condition is met\n",
    "* When the prog encounters the ```break``` statement, it terminates the loops and continues to execute the code after the loop. It is often used when a specific condition is satisfied and there is no need to continue with the loop\n",
    "\n",
    "* **Continue** Used to skip the remaining code in the current iteration of a loop and moves to the next iteration.\n",
    "* Useful when one wnats to skip certain steps or conditions within a loop without exiting the loop entirely."
   ]
  },
  {
   "cell_type": "code",
   "execution_count": 26,
   "id": "4126d8f8",
   "metadata": {},
   "outputs": [
    {
     "name": "stdout",
     "output_type": "stream",
     "text": [
      "0\n",
      "1\n",
      "2\n",
      "3\n",
      "4\n"
     ]
    }
   ],
   "source": [
    "# example Break 1\n",
    "for i in range(10):\n",
    "    if (i == 5):\n",
    "        break # exit the loop when i becomes 5\n",
    "    print(i)"
   ]
  },
  {
   "cell_type": "code",
   "execution_count": 27,
   "id": "f79adde7",
   "metadata": {},
   "outputs": [
    {
     "name": "stdout",
     "output_type": "stream",
     "text": [
      "0\n",
      "1\n",
      "2\n",
      "3\n",
      "4\n",
      "5\n"
     ]
    }
   ],
   "source": [
    "# example Break 2\n",
    "for i in range(10):\n",
    "    print(i)\n",
    "    if (i == 5):\n",
    "        break # exit the loop when i becomes 5"
   ]
  },
  {
   "cell_type": "code",
   "execution_count": 36,
   "id": "bf4c3ef3",
   "metadata": {},
   "outputs": [
    {
     "name": "stdout",
     "output_type": "stream",
     "text": [
      "['Mahamri', 'Mbaazi', 'Tea']\n",
      "['Toast', 'Uji', 'Muhogo']\n"
     ]
    }
   ],
   "source": [
    "# example Continue 1\n",
    "# food list\n",
    "breakfast = [\"Eggs\", \"Mahamri\", \"Mbaazi\", \"Vuchieni\", \"Tea\"]\n",
    "eugene_list = []\n",
    "for food in breakfast:\n",
    "    if (food == \"Eggs\"):\n",
    "        continue\n",
    "    elif (food == \"Vuchieni\"):\n",
    "        continue\n",
    "    else:\n",
    "        eugene_list.append(food)\n",
    "print(eugene_list)\n",
    "\n",
    "# example Continue 1(b)\n",
    "# food list\n",
    "breakfast = [\"Toast\", \"Uji\", \"Kahawa\", \"Muhogo\", \"Oats\"]\n",
    "martin_list = []\n",
    "for food in breakfast:\n",
    "    if (food == \"Kahawa\") or (food ==\"Oats\"):\n",
    "        continue\n",
    "    else:\n",
    "        martin_list.append(food)\n",
    "print(martin_list)"
   ]
  },
  {
   "cell_type": "code",
   "execution_count": 30,
   "id": "32d220bd",
   "metadata": {},
   "outputs": [
    {
     "name": "stdout",
     "output_type": "stream",
     "text": [
      "0\n",
      "1\n",
      "2\n",
      "3\n",
      "4\n",
      "6\n",
      "7\n",
      "8\n",
      "9\n"
     ]
    }
   ],
   "source": [
    "# example Continue 2\n",
    "for i in range(10):\n",
    "    \n",
    "    if (i == 5):\n",
    "        continue # skip the value if i==5 \n",
    "    print(i)"
   ]
  },
  {
   "cell_type": "markdown",
   "id": "e55fd37a",
   "metadata": {},
   "source": [
    "### While Loops\n",
    "\n",
    "* Allows a block of code to be repeated until a certain condition remains `True`\n",
    "* Basic Syntax \n",
    "```\n",
    "while condition:\n",
    "....# code block\n",
    "....# to execute\n",
    "\n",
    "```\n",
    "\n",
    "* It is **Crucial** to make sure that the *condition* eventually becomes `False`; Reason - to prevent having an infinite loop, other wise the prog will run indefinitely until you run out of RAM and the computer crashes\n",
    "\n",
    "#### While Loops Key Concepts\n",
    "\n",
    "1. **Initialization** - Initialize any var used in loop condition  before you enter the loop.\n",
    "2. **Update our condition** - Inside the loop, make sure the condition is modified in a way that leads it to eventually becoming `False`. Otherwise you will have an infinite loop.\n",
    "\n"
   ]
  },
  {
   "cell_type": "code",
   "execution_count": 2,
   "id": "193e2d8e",
   "metadata": {
    "tags": []
   },
   "outputs": [
    {
     "name": "stdout",
     "output_type": "stream",
     "text": [
      "0\n",
      "1\n",
      "2\n",
      "3\n",
      "4\n",
      "5\n"
     ]
    }
   ],
   "source": [
    "# Example 1:  while loop to print 1 - 5\n",
    "count = 0 # Initialization\n",
    "while (count <=5): #while loop cond\n",
    "    print(count)\n",
    "    count +=1 # updating the condition\n",
    "    \n"
   ]
  },
  {
   "cell_type": "code",
   "execution_count": 7,
   "id": "2ab89e10-c504-415e-b77a-6cd7f94df819",
   "metadata": {
    "tags": []
   },
   "outputs": [
    {
     "name": "stdout",
     "output_type": "stream",
     "text": [
      "apple\n",
      "banana\n"
     ]
    }
   ],
   "source": [
    "# Example 2\n",
    "fruit = [\"apple\", \"banana\", \"cherry\", \"mango\", \"pawpaw\"]\n",
    "# rep in displaying values in list \n",
    "print(fruit[0])\n",
    "print(fruit[1])"
   ]
  },
  {
   "cell_type": "code",
   "execution_count": 9,
   "id": "983cc9a6-ac1c-4b5c-b3ed-cabb51fcb569",
   "metadata": {
    "tags": []
   },
   "outputs": [
    {
     "name": "stdout",
     "output_type": "stream",
     "text": [
      "apple\n",
      "banana\n",
      "cherry\n",
      "mango\n",
      "pawpaw\n"
     ]
    }
   ],
   "source": [
    "# Example 3\n",
    "\n",
    "index = 0\n",
    "# print everything\n",
    "while (index < len(fruit)):\n",
    "    print(fruit[index])\n",
    "    index += 1"
   ]
  },
  {
   "cell_type": "code",
   "execution_count": 11,
   "id": "770d3189-d5fc-43c4-ba82-0b0d0da52c4f",
   "metadata": {
    "tags": []
   },
   "outputs": [
    {
     "name": "stdout",
     "output_type": "stream",
     "text": [
      " 1 * 9 = 9\n",
      " 2 * 9 = 18\n",
      " 3 * 9 = 27\n",
      " 4 * 9 = 36\n",
      " 5 * 9 = 45\n",
      " 6 * 9 = 54\n",
      " 7 * 9 = 63\n",
      " 8 * 9 = 72\n",
      " 9 * 9 = 81\n",
      " 10 * 9 = 90\n"
     ]
    }
   ],
   "source": [
    "# Example 4 : Multiplication table of 9\n",
    "multiplier = 1\n",
    "\n",
    "while (multiplier <= 10):\n",
    "    product = multiplier * 9\n",
    "    print(f\" {multiplier} * 9 = {product}\")\n",
    "    \n",
    "    multiplier += 1\n"
   ]
  },
  {
   "cell_type": "code",
   "execution_count": 33,
   "id": "a901b706-be63-4eef-830b-26eeff5f8c38",
   "metadata": {
    "tags": []
   },
   "outputs": [
    {
     "name": "stdout",
     "output_type": "stream",
     "text": [
      "* \n",
      "* * \n",
      "* * * \n",
      "* * * * \n",
      "* * * * * \n"
     ]
    }
   ],
   "source": [
    "### Nested while loop\n",
    "\n",
    "rows = 5 # initialize outer loop\n",
    "\n",
    "i = 0\n",
    "\n",
    "while (i < rows): # Condition for outer loop\n",
    "    j = 0 # initialize var for inner loop\n",
    "    while j <= i: # condition for inner loop\n",
    "        print(\"*\", end=\" \")\n",
    "        j += 1 # update inner loop cond\n",
    "    print()\n",
    "    i += 1 # update outer loop cond\n"
   ]
  },
  {
   "cell_type": "code",
   "execution_count": 19,
   "id": "f82007bf-723b-4239-bf6d-3c67c0506bee",
   "metadata": {
    "tags": []
   },
   "outputs": [
    {
     "name": "stdout",
     "output_type": "stream",
     "text": [
      "        # \n",
      "      # # \n",
      "    # # # \n",
      "  # # # # \n",
      "# # # # # \n"
     ]
    }
   ],
   "source": [
    "rows = 5\n",
    "i = 0\n",
    "\n",
    "while i < rows:\n",
    "    spaces = rows - i - 1\n",
    "    while spaces > 0:\n",
    "        print(\" \", end=\" \")\n",
    "        spaces -= 1\n",
    "\n",
    "    j = 0\n",
    "    while j <= i:\n",
    "        print(\"#\", end=\" \")\n",
    "        j += 1\n",
    "\n",
    "    print()\n",
    "    i += 1\n"
   ]
  }
 ],
 "metadata": {
  "kernelspec": {
   "display_name": "Python 3 (ipykernel)",
   "language": "python",
   "name": "python3"
  },
  "language_info": {
   "codemirror_mode": {
    "name": "ipython",
    "version": 3
   },
   "file_extension": ".py",
   "mimetype": "text/x-python",
   "name": "python",
   "nbconvert_exporter": "python",
   "pygments_lexer": "ipython3",
   "version": "3.11.3"
  }
 },
 "nbformat": 4,
 "nbformat_minor": 5
}
